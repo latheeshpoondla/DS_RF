{
 "cells": [
  {
   "cell_type": "markdown",
   "id": "ae9b4f9d",
   "metadata": {},
   "source": [
    "# Decision Tree"
   ]
  },
  {
   "cell_type": "code",
   "execution_count": 20,
   "id": "476d7784",
   "metadata": {},
   "outputs": [],
   "source": [
    "from abc import ABC, abstractmethod\n",
    "\n",
    "class Classifier(ABC):\n",
    "    pass"
   ]
  },
  {
   "cell_type": "code",
   "execution_count": 21,
   "id": "4c3044a5",
   "metadata": {},
   "outputs": [],
   "source": [
    "class DecisionTreeClassifier(Classifier):\n",
    "    def __init__(self, max_depth=None):\n",
    "        self.max_depth = max_depth\n",
    "\n",
    "    def fit(self, X, y):\n",
    "        # Placeholder for fitting logic\n",
    "        pass\n",
    "\n",
    "    def predict(self, X):\n",
    "        # Placeholder for prediction logic\n",
    "        return [0] * len(X)  # Dummy prediction"
   ]
  }
 ],
 "metadata": {
  "kernelspec": {
   "display_name": "dsmlai",
   "language": "python",
   "name": "python3"
  },
  "language_info": {
   "codemirror_mode": {
    "name": "ipython",
    "version": 3
   },
   "file_extension": ".py",
   "mimetype": "text/x-python",
   "name": "python",
   "nbconvert_exporter": "python",
   "pygments_lexer": "ipython3",
   "version": "3.13.3"
  }
 },
 "nbformat": 4,
 "nbformat_minor": 5
}
