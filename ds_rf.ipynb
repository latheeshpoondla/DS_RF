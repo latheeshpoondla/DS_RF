{
 "cells": [
  {
   "cell_type": "code",
   "execution_count": 1,
   "id": "476d7784",
   "metadata": {},
   "outputs": [
    {
     "data": {
      "text/plain": [
       "'Hello AI World, Hare Krishna!'"
      ]
     },
     "execution_count": 1,
     "metadata": {},
     "output_type": "execute_result"
    }
   ],
   "source": [
    "\"Hello AI World, Hare Krishna!\""
   ]
  }
 ],
 "metadata": {
  "kernelspec": {
   "display_name": "dsmlai",
   "language": "python",
   "name": "python3"
  },
  "language_info": {
   "codemirror_mode": {
    "name": "ipython",
    "version": 3
   },
   "file_extension": ".py",
   "mimetype": "text/x-python",
   "name": "python",
   "nbconvert_exporter": "python",
   "pygments_lexer": "ipython3",
   "version": "3.13.3"
  }
 },
 "nbformat": 4,
 "nbformat_minor": 5
}
