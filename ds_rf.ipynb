{
 "cells": [
  {
   "cell_type": "markdown",
   "id": "ae9b4f9d",
   "metadata": {},
   "source": [
    "# Decision Tree :deciduous_tree:"
   ]
  },
  {
   "cell_type": "code",
   "execution_count": 2,
   "id": "476d7784",
   "metadata": {},
   "outputs": [
    {
     "data": {
      "text/plain": [
       "'Hello AI World, HK!'"
      ]
     },
     "execution_count": 2,
     "metadata": {},
     "output_type": "execute_result"
    }
   ],
   "source": [
    "\"Hello AI World, HK!\""
   ]
  }
 ],
 "metadata": {
  "kernelspec": {
   "display_name": "dsmlai",
   "language": "python",
   "name": "python3"
  },
  "language_info": {
   "codemirror_mode": {
    "name": "ipython",
    "version": 3
   },
   "file_extension": ".py",
   "mimetype": "text/x-python",
   "name": "python",
   "nbconvert_exporter": "python",
   "pygments_lexer": "ipython3",
   "version": "3.13.3"
  }
 },
 "nbformat": 4,
 "nbformat_minor": 5
}
