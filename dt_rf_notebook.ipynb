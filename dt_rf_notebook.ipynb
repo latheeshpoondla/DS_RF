{
 "cells": [
  {
   "cell_type": "markdown",
   "id": "ae9b4f9d",
   "metadata": {},
   "source": [
    "# Decision Tree"
   ]
  },
  {
   "cell_type": "code",
   "execution_count": 72,
   "id": "0f41c97a",
   "metadata": {},
   "outputs": [],
   "source": [
    "import pandas as pd\n",
    "from abc import ABC, abstractmethod\n",
    "from collections import Counter\n",
    "import numpy as np\n",
    "from sklearn.tree import DecisionTreeClassifier as skl_DTC\n",
    "from sklearn.model_selection import train_test_split\n",
    "from sklearn.metrics import accuracy_score, confusion_matrix"
   ]
  },
  {
   "cell_type": "code",
   "execution_count": 73,
   "id": "476d7784",
   "metadata": {},
   "outputs": [],
   "source": [
    "class Classifier(ABC):\n",
    "    class Tree():\n",
    "        def __init__(self, feature_index: int = None, threshold: float = None, left: 'Classifier.Tree' = None, right: 'Classifier.Tree' = None, lvalue: int = None, rvalue: int = None):\n",
    "            \"\"\"\n",
    "            A node in the decision tree.\n",
    "            :param feature_index: Index of the feature to split on.\n",
    "            :param threshold: Threshold value for the split.\n",
    "            :param left: Left child node.\n",
    "            :param right: Right child node.\n",
    "            :param value: Class label if it's a leaf node.\n",
    "            \"\"\"\n",
    "            self.feature_index = feature_index\n",
    "            self.threshold = threshold\n",
    "            self.left = left\n",
    "            self.right = right\n",
    "            self.lvalue = lvalue\n",
    "            self.rvalue = rvalue\n",
    "            \n",
    "    def gini_impurity(self, x):\n",
    "        \"\"\"\n",
    "        Calculate the Gini impurity for a given set of labels.\n",
    "\n",
    "        :param x: A list of labels. (Series, list, DataFrame-column, etc.)\n",
    "        :return: The Gini impurity value.\n",
    "        \"\"\"\n",
    "        if x.size == 0:\n",
    "            return 0.0\n",
    "\n",
    "        counts = np.bincount(x)\n",
    "        prob_sq = (counts / len(x)) ** 2\n",
    "        return 1 - prob_sq.sum()\n",
    "    \n",
    "    def weighted_average(self, gi1, gi2, w1, w2):\n",
    "        \"\"\"Calculate Weighted Gini Impurity Average of two Gini impurity values\"\"\"\n",
    "        return {0:(gi1 * w1)/(w1+w2), 1:(gi2 * w2) / (w1 + w2)}"
   ]
  },
  {
   "cell_type": "code",
   "execution_count": 74,
   "id": "4c3044a5",
   "metadata": {},
   "outputs": [],
   "source": [
    "class DecisionTreeClassifier(Classifier):\n",
    "    def __init__(self, max_depth:int =None):\n",
    "        self.max_depth = max_depth\n",
    "        self.root = None\n",
    "        \n",
    "    def __check_GI(self, X, y):\n",
    "        \"\"\"\n",
    "        This method should implement the logic to find the best feature and threshold to split on based on Gini impurity.\n",
    "        \"\"\"\n",
    "        col_lbl_cts =[np.unique(X[:, i]) for i in range(X.shape[1])]\n",
    "        thresholds = [(a[:-1]+a[1:])/2 if a.size>1 else [] for a in col_lbl_cts]\n",
    "        GIs = {}\n",
    "        for i in range(len(thresholds)):\n",
    "            for j in thresholds[i]:\n",
    "                mask = X[:, i] <= j\n",
    "                X_l, X_r, y_l, y_r = X[mask], X[~mask], y[mask], y[~mask]\n",
    "                gi_l = self.gini_impurity(y_l)\n",
    "                gi_r = self.gini_impurity(y_r)\n",
    "                \n",
    "                w1, w2 = len(X_l), len(X_r)\n",
    "                gi_avg = self.weighted_average(gi_l, gi_r, w1, w2)\n",
    "                GIs[gi_avg[0] + gi_avg[1]] = (i, j, gi_l, gi_r)\n",
    "        \n",
    "        return GIs[min(GIs.keys())] if GIs else (None, None, None, None, None, None)\n",
    "    \n",
    "    def __build_tree(self, X, y, root, depth=1):\n",
    "        \"\"\"\n",
    "        Recursively build the decision tree.\n",
    "        :param root: The current node in the tree.\n",
    "        :param depth: Current depth of the tree.\n",
    "        \"\"\"\n",
    "        fi, thr, gi_l, gi_r, lc_l, lc_l = None, None, None, None, None, None\n",
    "        if self.max_depth >= depth:\n",
    "            fi, thr, gi_l, gi_r = self.__check_GI(X, y)\n",
    "            root.feature_index = fi\n",
    "            root.threshold = thr\n",
    "            \n",
    "        lc_l, lc_r = Counter(y[X[:, fi] <= thr]), Counter(y[X[:, fi] > thr])\n",
    "        \n",
    "        if self.max_depth == depth:\n",
    "            root.lvalue = lc_l.most_common(1)[0][0]\n",
    "            root.rvalue = lc_r.most_common(1)[0][0]\n",
    "        else:\n",
    "            if gi_l != 0:\n",
    "                root.left = self.Tree()\n",
    "                self.__build_tree(X[X[:, fi] <= thr], y[X[:, fi] <= thr], root.left, depth + 1)\n",
    "            else:\n",
    "                root.lvalue = lc_l.most_common(1)[0][0]\n",
    "            if gi_r != 0:\n",
    "                root.right = self.Tree()\n",
    "                self.__build_tree(X[X[:, fi] > thr], y[X[:, fi] > thr], root.right, depth + 1)\n",
    "            else:\n",
    "                root.rvalue = lc_r.most_common(1)[0][0]\n",
    "            \n",
    "    def fit(self, X, y):\n",
    "        if not isinstance(X, pd.DataFrame):\n",
    "            raise TypeError(\"X must be a pandas DataFrame\")\n",
    "        if not isinstance(y, pd.Series):\n",
    "            raise TypeError(\"y must be a pandas Series\")\n",
    "        if len(X) != len(y):\n",
    "            raise ValueError(\"X and y must have the same number of samples\")\n",
    "        self.root = self.Tree()\n",
    "        self.__build_tree(X.to_numpy(), y.to_numpy(), root=self.root)\n",
    "    \n",
    "    def predict(self, X):\n",
    "        y_pred = []\n",
    "        if not isinstance(X, pd.DataFrame):\n",
    "            raise TypeError(\"X must be a pandas DataFrame\")\n",
    "        for _, row in X.iterrows():\n",
    "            node = self.root\n",
    "            while node.left or node.right:\n",
    "                if row.iloc[node.feature_index] <= node.threshold:\n",
    "                    if node.left:\n",
    "                        node = node.left\n",
    "                    else:\n",
    "                        y_pred.append(node.lvalue)\n",
    "                        break\n",
    "                else:\n",
    "                    if node.right:\n",
    "                        node = node.right\n",
    "                    else:\n",
    "                        y_pred.append(node.rvalue)\n",
    "                        break\n",
    "            else:\n",
    "                y_pred.append(node.lvalue if row.iloc[node.feature_index] <= node.threshold else node.rvalue)\n",
    "                \n",
    "        return pd.Series(y_pred)\n",
    "\n",
    "    def score(self, X, y):\n",
    "        if not isinstance(X, pd.DataFrame):\n",
    "            raise TypeError(\"X must be a pandas DataFrame\")\n",
    "        if not isinstance(y, pd.Series):\n",
    "            raise TypeError(\"y must be a pandas Series\")\n",
    "        if len(X) != len(y):\n",
    "            raise ValueError(\"X and y must have the same number of samples\")\n",
    "        \n",
    "        y.reset_index(drop=True, inplace=True)\n",
    "        y_pred = self.predict(X)\n",
    "        return float((y_pred == y).mean())\n",
    "    \n",
    "    def visualize_tree(self):\n",
    "        \"\"\"\n",
    "        Visualize the decision tree.\n",
    "        This method can be implemented using libraries like graphviz or matplotlib.\n",
    "        \"\"\"\n",
    "        raise NotImplementedError(\"Visualization method is not implemented yet.\")"
   ]
  },
  {
   "cell_type": "code",
   "execution_count": 75,
   "id": "8d3b0819",
   "metadata": {},
   "outputs": [
    {
     "data": {
      "application/vnd.microsoft.datawrangler.viewer.v0+json": {
       "columns": [
        {
         "name": "index",
         "rawType": "int64",
         "type": "integer"
        },
        {
         "name": "Loves Popcorn",
         "rawType": "int64",
         "type": "integer"
        },
        {
         "name": "Loves Soda",
         "rawType": "int64",
         "type": "integer"
        },
        {
         "name": "Age",
         "rawType": "int64",
         "type": "integer"
        },
        {
         "name": "Loves Cool As Ice",
         "rawType": "int64",
         "type": "integer"
        }
       ],
       "ref": "74819156-d811-462b-a7a0-87c0a09eeefc",
       "rows": [
        [
         "0",
         "0",
         "1",
         "35",
         "1"
        ],
        [
         "1",
         "1",
         "1",
         "7",
         "0"
        ],
        [
         "2",
         "1",
         "1",
         "38",
         "1"
        ],
        [
         "3",
         "1",
         "0",
         "12",
         "0"
        ],
        [
         "4",
         "1",
         "0",
         "50",
         "0"
        ],
        [
         "5",
         "0",
         "1",
         "18",
         "1"
        ],
        [
         "6",
         "0",
         "0",
         "83",
         "0"
        ]
       ],
       "shape": {
        "columns": 4,
        "rows": 7
       }
      },
      "text/html": [
       "<div>\n",
       "<style scoped>\n",
       "    .dataframe tbody tr th:only-of-type {\n",
       "        vertical-align: middle;\n",
       "    }\n",
       "\n",
       "    .dataframe tbody tr th {\n",
       "        vertical-align: top;\n",
       "    }\n",
       "\n",
       "    .dataframe thead th {\n",
       "        text-align: right;\n",
       "    }\n",
       "</style>\n",
       "<table border=\"1\" class=\"dataframe\">\n",
       "  <thead>\n",
       "    <tr style=\"text-align: right;\">\n",
       "      <th></th>\n",
       "      <th>Loves Popcorn</th>\n",
       "      <th>Loves Soda</th>\n",
       "      <th>Age</th>\n",
       "      <th>Loves Cool As Ice</th>\n",
       "    </tr>\n",
       "  </thead>\n",
       "  <tbody>\n",
       "    <tr>\n",
       "      <th>0</th>\n",
       "      <td>0</td>\n",
       "      <td>1</td>\n",
       "      <td>35</td>\n",
       "      <td>1</td>\n",
       "    </tr>\n",
       "    <tr>\n",
       "      <th>1</th>\n",
       "      <td>1</td>\n",
       "      <td>1</td>\n",
       "      <td>7</td>\n",
       "      <td>0</td>\n",
       "    </tr>\n",
       "    <tr>\n",
       "      <th>2</th>\n",
       "      <td>1</td>\n",
       "      <td>1</td>\n",
       "      <td>38</td>\n",
       "      <td>1</td>\n",
       "    </tr>\n",
       "    <tr>\n",
       "      <th>3</th>\n",
       "      <td>1</td>\n",
       "      <td>0</td>\n",
       "      <td>12</td>\n",
       "      <td>0</td>\n",
       "    </tr>\n",
       "    <tr>\n",
       "      <th>4</th>\n",
       "      <td>1</td>\n",
       "      <td>0</td>\n",
       "      <td>50</td>\n",
       "      <td>0</td>\n",
       "    </tr>\n",
       "    <tr>\n",
       "      <th>5</th>\n",
       "      <td>0</td>\n",
       "      <td>1</td>\n",
       "      <td>18</td>\n",
       "      <td>1</td>\n",
       "    </tr>\n",
       "    <tr>\n",
       "      <th>6</th>\n",
       "      <td>0</td>\n",
       "      <td>0</td>\n",
       "      <td>83</td>\n",
       "      <td>0</td>\n",
       "    </tr>\n",
       "  </tbody>\n",
       "</table>\n",
       "</div>"
      ],
      "text/plain": [
       "   Loves Popcorn  Loves Soda  Age  Loves Cool As Ice\n",
       "0              0           1   35                  1\n",
       "1              1           1    7                  0\n",
       "2              1           1   38                  1\n",
       "3              1           0   12                  0\n",
       "4              1           0   50                  0\n",
       "5              0           1   18                  1\n",
       "6              0           0   83                  0"
      ]
     },
     "execution_count": 75,
     "metadata": {},
     "output_type": "execute_result"
    }
   ],
   "source": [
    "df = pd.read_csv(\"data/sample1.csv\")\n",
    "for col in df.columns:\n",
    "    if df[col].dtype == \"object\":\n",
    "        df[col] = df[col].map(lambda x: 1 if x == \"Yes\" else 0)\n",
    "train_X = df[[\"Loves Popcorn\", \"Loves Soda\", \"Age\"]]\n",
    "train_Y = df[\"Loves Cool As Ice\"]\n",
    "df"
   ]
  },
  {
   "cell_type": "code",
   "execution_count": 76,
   "id": "6f6e27f5",
   "metadata": {},
   "outputs": [
    {
     "data": {
      "application/vnd.microsoft.datawrangler.viewer.v0+json": {
       "columns": [
        {
         "name": "index",
         "rawType": "int64",
         "type": "integer"
        },
        {
         "name": "Loves Popcorn",
         "rawType": "int64",
         "type": "integer"
        },
        {
         "name": "Loves Soda",
         "rawType": "int64",
         "type": "integer"
        },
        {
         "name": "Age",
         "rawType": "int64",
         "type": "integer"
        },
        {
         "name": "Loves Cool As Ice",
         "rawType": "int64",
         "type": "integer"
        }
       ],
       "ref": "444248e6-8d3f-4a56-a521-5c2a8d77fdce",
       "rows": [
        [
         "1",
         "1",
         "1",
         "7",
         "0"
        ],
        [
         "3",
         "1",
         "0",
         "12",
         "0"
        ],
        [
         "5",
         "0",
         "1",
         "18",
         "1"
        ],
        [
         "0",
         "0",
         "1",
         "35",
         "1"
        ],
        [
         "2",
         "1",
         "1",
         "38",
         "1"
        ],
        [
         "4",
         "1",
         "0",
         "50",
         "0"
        ],
        [
         "6",
         "0",
         "0",
         "83",
         "0"
        ]
       ],
       "shape": {
        "columns": 4,
        "rows": 7
       }
      },
      "text/html": [
       "<div>\n",
       "<style scoped>\n",
       "    .dataframe tbody tr th:only-of-type {\n",
       "        vertical-align: middle;\n",
       "    }\n",
       "\n",
       "    .dataframe tbody tr th {\n",
       "        vertical-align: top;\n",
       "    }\n",
       "\n",
       "    .dataframe thead th {\n",
       "        text-align: right;\n",
       "    }\n",
       "</style>\n",
       "<table border=\"1\" class=\"dataframe\">\n",
       "  <thead>\n",
       "    <tr style=\"text-align: right;\">\n",
       "      <th></th>\n",
       "      <th>Loves Popcorn</th>\n",
       "      <th>Loves Soda</th>\n",
       "      <th>Age</th>\n",
       "      <th>Loves Cool As Ice</th>\n",
       "    </tr>\n",
       "  </thead>\n",
       "  <tbody>\n",
       "    <tr>\n",
       "      <th>1</th>\n",
       "      <td>1</td>\n",
       "      <td>1</td>\n",
       "      <td>7</td>\n",
       "      <td>0</td>\n",
       "    </tr>\n",
       "    <tr>\n",
       "      <th>3</th>\n",
       "      <td>1</td>\n",
       "      <td>0</td>\n",
       "      <td>12</td>\n",
       "      <td>0</td>\n",
       "    </tr>\n",
       "    <tr>\n",
       "      <th>5</th>\n",
       "      <td>0</td>\n",
       "      <td>1</td>\n",
       "      <td>18</td>\n",
       "      <td>1</td>\n",
       "    </tr>\n",
       "    <tr>\n",
       "      <th>0</th>\n",
       "      <td>0</td>\n",
       "      <td>1</td>\n",
       "      <td>35</td>\n",
       "      <td>1</td>\n",
       "    </tr>\n",
       "    <tr>\n",
       "      <th>2</th>\n",
       "      <td>1</td>\n",
       "      <td>1</td>\n",
       "      <td>38</td>\n",
       "      <td>1</td>\n",
       "    </tr>\n",
       "    <tr>\n",
       "      <th>4</th>\n",
       "      <td>1</td>\n",
       "      <td>0</td>\n",
       "      <td>50</td>\n",
       "      <td>0</td>\n",
       "    </tr>\n",
       "    <tr>\n",
       "      <th>6</th>\n",
       "      <td>0</td>\n",
       "      <td>0</td>\n",
       "      <td>83</td>\n",
       "      <td>0</td>\n",
       "    </tr>\n",
       "  </tbody>\n",
       "</table>\n",
       "</div>"
      ],
      "text/plain": [
       "   Loves Popcorn  Loves Soda  Age  Loves Cool As Ice\n",
       "1              1           1    7                  0\n",
       "3              1           0   12                  0\n",
       "5              0           1   18                  1\n",
       "0              0           1   35                  1\n",
       "2              1           1   38                  1\n",
       "4              1           0   50                  0\n",
       "6              0           0   83                  0"
      ]
     },
     "execution_count": 76,
     "metadata": {},
     "output_type": "execute_result"
    }
   ],
   "source": [
    "df.sort_values(by=\"Age\")"
   ]
  },
  {
   "cell_type": "code",
   "execution_count": 77,
   "id": "fe8008bd",
   "metadata": {},
   "outputs": [
    {
     "data": {
      "application/vnd.microsoft.datawrangler.viewer.v0+json": {
       "columns": [
        {
         "name": "index",
         "rawType": "int64",
         "type": "integer"
        },
        {
         "name": "0",
         "rawType": "int64",
         "type": "integer"
        }
       ],
       "ref": "8bc5d63c-707c-4b16-8c72-3822ee831c44",
       "rows": [
        [
         "0",
         "1"
        ],
        [
         "1",
         "0"
        ],
        [
         "2",
         "1"
        ],
        [
         "3",
         "0"
        ],
        [
         "4",
         "0"
        ],
        [
         "5",
         "1"
        ],
        [
         "6",
         "0"
        ]
       ],
       "shape": {
        "columns": 1,
        "rows": 7
       }
      },
      "text/plain": [
       "0    1\n",
       "1    0\n",
       "2    1\n",
       "3    0\n",
       "4    0\n",
       "5    1\n",
       "6    0\n",
       "dtype: int64"
      ]
     },
     "execution_count": 77,
     "metadata": {},
     "output_type": "execute_result"
    }
   ],
   "source": [
    "model1 = DecisionTreeClassifier(max_depth=3)\n",
    "model1.fit(train_X, train_Y)\n",
    "model1.predict(train_X)"
   ]
  },
  {
   "cell_type": "code",
   "execution_count": 78,
   "id": "80831ed8",
   "metadata": {},
   "outputs": [
    {
     "data": {
      "text/plain": [
       "array([1, 0, 1, 0, 0, 1, 0])"
      ]
     },
     "execution_count": 78,
     "metadata": {},
     "output_type": "execute_result"
    }
   ],
   "source": [
    "model2 = skl_DTC(max_depth=3)\n",
    "model2.fit(train_X, train_Y)\n",
    "model2.predict(train_X)"
   ]
  },
  {
   "cell_type": "code",
   "execution_count": 79,
   "id": "30b8e42d",
   "metadata": {},
   "outputs": [
    {
     "data": {
      "application/vnd.microsoft.datawrangler.viewer.v0+json": {
       "columns": [
        {
         "name": "index",
         "rawType": "int64",
         "type": "integer"
        },
        {
         "name": "PassengerId",
         "rawType": "int64",
         "type": "integer"
        },
        {
         "name": "Survived",
         "rawType": "int64",
         "type": "integer"
        },
        {
         "name": "Pclass",
         "rawType": "int64",
         "type": "integer"
        },
        {
         "name": "Name",
         "rawType": "object",
         "type": "string"
        },
        {
         "name": "Sex",
         "rawType": "object",
         "type": "string"
        },
        {
         "name": "Age",
         "rawType": "float64",
         "type": "float"
        },
        {
         "name": "SibSp",
         "rawType": "int64",
         "type": "integer"
        },
        {
         "name": "Parch",
         "rawType": "int64",
         "type": "integer"
        },
        {
         "name": "Ticket",
         "rawType": "object",
         "type": "string"
        },
        {
         "name": "Fare",
         "rawType": "float64",
         "type": "float"
        },
        {
         "name": "Cabin",
         "rawType": "object",
         "type": "unknown"
        },
        {
         "name": "Embarked",
         "rawType": "object",
         "type": "unknown"
        }
       ],
       "ref": "4ea2644a-92ad-4f09-a7be-8e9d8d30a594",
       "rows": [
        [
         "0",
         "1",
         "0",
         "3",
         "Braund, Mr. Owen Harris",
         "male",
         "22.0",
         "1",
         "0",
         "A/5 21171",
         "7.25",
         null,
         "S"
        ],
        [
         "1",
         "2",
         "1",
         "1",
         "Cumings, Mrs. John Bradley (Florence Briggs Thayer)",
         "female",
         "38.0",
         "1",
         "0",
         "PC 17599",
         "71.2833",
         "C85",
         "C"
        ],
        [
         "2",
         "3",
         "1",
         "3",
         "Heikkinen, Miss. Laina",
         "female",
         "26.0",
         "0",
         "0",
         "STON/O2. 3101282",
         "7.925",
         null,
         "S"
        ],
        [
         "3",
         "4",
         "1",
         "1",
         "Futrelle, Mrs. Jacques Heath (Lily May Peel)",
         "female",
         "35.0",
         "1",
         "0",
         "113803",
         "53.1",
         "C123",
         "S"
        ],
        [
         "4",
         "5",
         "0",
         "3",
         "Allen, Mr. William Henry",
         "male",
         "35.0",
         "0",
         "0",
         "373450",
         "8.05",
         null,
         "S"
        ],
        [
         "5",
         "6",
         "0",
         "3",
         "Moran, Mr. James",
         "male",
         null,
         "0",
         "0",
         "330877",
         "8.4583",
         null,
         "Q"
        ],
        [
         "6",
         "7",
         "0",
         "1",
         "McCarthy, Mr. Timothy J",
         "male",
         "54.0",
         "0",
         "0",
         "17463",
         "51.8625",
         "E46",
         "S"
        ],
        [
         "7",
         "8",
         "0",
         "3",
         "Palsson, Master. Gosta Leonard",
         "male",
         "2.0",
         "3",
         "1",
         "349909",
         "21.075",
         null,
         "S"
        ],
        [
         "8",
         "9",
         "1",
         "3",
         "Johnson, Mrs. Oscar W (Elisabeth Vilhelmina Berg)",
         "female",
         "27.0",
         "0",
         "2",
         "347742",
         "11.1333",
         null,
         "S"
        ],
        [
         "9",
         "10",
         "1",
         "2",
         "Nasser, Mrs. Nicholas (Adele Achem)",
         "female",
         "14.0",
         "1",
         "0",
         "237736",
         "30.0708",
         null,
         "C"
        ],
        [
         "10",
         "11",
         "1",
         "3",
         "Sandstrom, Miss. Marguerite Rut",
         "female",
         "4.0",
         "1",
         "1",
         "PP 9549",
         "16.7",
         "G6",
         "S"
        ],
        [
         "11",
         "12",
         "1",
         "1",
         "Bonnell, Miss. Elizabeth",
         "female",
         "58.0",
         "0",
         "0",
         "113783",
         "26.55",
         "C103",
         "S"
        ],
        [
         "12",
         "13",
         "0",
         "3",
         "Saundercock, Mr. William Henry",
         "male",
         "20.0",
         "0",
         "0",
         "A/5. 2151",
         "8.05",
         null,
         "S"
        ],
        [
         "13",
         "14",
         "0",
         "3",
         "Andersson, Mr. Anders Johan",
         "male",
         "39.0",
         "1",
         "5",
         "347082",
         "31.275",
         null,
         "S"
        ],
        [
         "14",
         "15",
         "0",
         "3",
         "Vestrom, Miss. Hulda Amanda Adolfina",
         "female",
         "14.0",
         "0",
         "0",
         "350406",
         "7.8542",
         null,
         "S"
        ],
        [
         "15",
         "16",
         "1",
         "2",
         "Hewlett, Mrs. (Mary D Kingcome) ",
         "female",
         "55.0",
         "0",
         "0",
         "248706",
         "16.0",
         null,
         "S"
        ],
        [
         "16",
         "17",
         "0",
         "3",
         "Rice, Master. Eugene",
         "male",
         "2.0",
         "4",
         "1",
         "382652",
         "29.125",
         null,
         "Q"
        ],
        [
         "17",
         "18",
         "1",
         "2",
         "Williams, Mr. Charles Eugene",
         "male",
         null,
         "0",
         "0",
         "244373",
         "13.0",
         null,
         "S"
        ],
        [
         "18",
         "19",
         "0",
         "3",
         "Vander Planke, Mrs. Julius (Emelia Maria Vandemoortele)",
         "female",
         "31.0",
         "1",
         "0",
         "345763",
         "18.0",
         null,
         "S"
        ],
        [
         "19",
         "20",
         "1",
         "3",
         "Masselmani, Mrs. Fatima",
         "female",
         null,
         "0",
         "0",
         "2649",
         "7.225",
         null,
         "C"
        ],
        [
         "20",
         "21",
         "0",
         "2",
         "Fynney, Mr. Joseph J",
         "male",
         "35.0",
         "0",
         "0",
         "239865",
         "26.0",
         null,
         "S"
        ],
        [
         "21",
         "22",
         "1",
         "2",
         "Beesley, Mr. Lawrence",
         "male",
         "34.0",
         "0",
         "0",
         "248698",
         "13.0",
         "D56",
         "S"
        ],
        [
         "22",
         "23",
         "1",
         "3",
         "McGowan, Miss. Anna \"Annie\"",
         "female",
         "15.0",
         "0",
         "0",
         "330923",
         "8.0292",
         null,
         "Q"
        ],
        [
         "23",
         "24",
         "1",
         "1",
         "Sloper, Mr. William Thompson",
         "male",
         "28.0",
         "0",
         "0",
         "113788",
         "35.5",
         "A6",
         "S"
        ],
        [
         "24",
         "25",
         "0",
         "3",
         "Palsson, Miss. Torborg Danira",
         "female",
         "8.0",
         "3",
         "1",
         "349909",
         "21.075",
         null,
         "S"
        ],
        [
         "25",
         "26",
         "1",
         "3",
         "Asplund, Mrs. Carl Oscar (Selma Augusta Emilia Johansson)",
         "female",
         "38.0",
         "1",
         "5",
         "347077",
         "31.3875",
         null,
         "S"
        ],
        [
         "26",
         "27",
         "0",
         "3",
         "Emir, Mr. Farred Chehab",
         "male",
         null,
         "0",
         "0",
         "2631",
         "7.225",
         null,
         "C"
        ],
        [
         "27",
         "28",
         "0",
         "1",
         "Fortune, Mr. Charles Alexander",
         "male",
         "19.0",
         "3",
         "2",
         "19950",
         "263.0",
         "C23 C25 C27",
         "S"
        ],
        [
         "28",
         "29",
         "1",
         "3",
         "O'Dwyer, Miss. Ellen \"Nellie\"",
         "female",
         null,
         "0",
         "0",
         "330959",
         "7.8792",
         null,
         "Q"
        ],
        [
         "29",
         "30",
         "0",
         "3",
         "Todoroff, Mr. Lalio",
         "male",
         null,
         "0",
         "0",
         "349216",
         "7.8958",
         null,
         "S"
        ],
        [
         "30",
         "31",
         "0",
         "1",
         "Uruchurtu, Don. Manuel E",
         "male",
         "40.0",
         "0",
         "0",
         "PC 17601",
         "27.7208",
         null,
         "C"
        ],
        [
         "31",
         "32",
         "1",
         "1",
         "Spencer, Mrs. William Augustus (Marie Eugenie)",
         "female",
         null,
         "1",
         "0",
         "PC 17569",
         "146.5208",
         "B78",
         "C"
        ],
        [
         "32",
         "33",
         "1",
         "3",
         "Glynn, Miss. Mary Agatha",
         "female",
         null,
         "0",
         "0",
         "335677",
         "7.75",
         null,
         "Q"
        ],
        [
         "33",
         "34",
         "0",
         "2",
         "Wheadon, Mr. Edward H",
         "male",
         "66.0",
         "0",
         "0",
         "C.A. 24579",
         "10.5",
         null,
         "S"
        ],
        [
         "34",
         "35",
         "0",
         "1",
         "Meyer, Mr. Edgar Joseph",
         "male",
         "28.0",
         "1",
         "0",
         "PC 17604",
         "82.1708",
         null,
         "C"
        ],
        [
         "35",
         "36",
         "0",
         "1",
         "Holverson, Mr. Alexander Oskar",
         "male",
         "42.0",
         "1",
         "0",
         "113789",
         "52.0",
         null,
         "S"
        ],
        [
         "36",
         "37",
         "1",
         "3",
         "Mamee, Mr. Hanna",
         "male",
         null,
         "0",
         "0",
         "2677",
         "7.2292",
         null,
         "C"
        ],
        [
         "37",
         "38",
         "0",
         "3",
         "Cann, Mr. Ernest Charles",
         "male",
         "21.0",
         "0",
         "0",
         "A./5. 2152",
         "8.05",
         null,
         "S"
        ],
        [
         "38",
         "39",
         "0",
         "3",
         "Vander Planke, Miss. Augusta Maria",
         "female",
         "18.0",
         "2",
         "0",
         "345764",
         "18.0",
         null,
         "S"
        ],
        [
         "39",
         "40",
         "1",
         "3",
         "Nicola-Yarred, Miss. Jamila",
         "female",
         "14.0",
         "1",
         "0",
         "2651",
         "11.2417",
         null,
         "C"
        ],
        [
         "40",
         "41",
         "0",
         "3",
         "Ahlin, Mrs. Johan (Johanna Persdotter Larsson)",
         "female",
         "40.0",
         "1",
         "0",
         "7546",
         "9.475",
         null,
         "S"
        ],
        [
         "41",
         "42",
         "0",
         "2",
         "Turpin, Mrs. William John Robert (Dorothy Ann Wonnacott)",
         "female",
         "27.0",
         "1",
         "0",
         "11668",
         "21.0",
         null,
         "S"
        ],
        [
         "42",
         "43",
         "0",
         "3",
         "Kraeff, Mr. Theodor",
         "male",
         null,
         "0",
         "0",
         "349253",
         "7.8958",
         null,
         "C"
        ],
        [
         "43",
         "44",
         "1",
         "2",
         "Laroche, Miss. Simonne Marie Anne Andree",
         "female",
         "3.0",
         "1",
         "2",
         "SC/Paris 2123",
         "41.5792",
         null,
         "C"
        ],
        [
         "44",
         "45",
         "1",
         "3",
         "Devaney, Miss. Margaret Delia",
         "female",
         "19.0",
         "0",
         "0",
         "330958",
         "7.8792",
         null,
         "Q"
        ],
        [
         "45",
         "46",
         "0",
         "3",
         "Rogers, Mr. William John",
         "male",
         null,
         "0",
         "0",
         "S.C./A.4. 23567",
         "8.05",
         null,
         "S"
        ],
        [
         "46",
         "47",
         "0",
         "3",
         "Lennon, Mr. Denis",
         "male",
         null,
         "1",
         "0",
         "370371",
         "15.5",
         null,
         "Q"
        ],
        [
         "47",
         "48",
         "1",
         "3",
         "O'Driscoll, Miss. Bridget",
         "female",
         null,
         "0",
         "0",
         "14311",
         "7.75",
         null,
         "Q"
        ],
        [
         "48",
         "49",
         "0",
         "3",
         "Samaan, Mr. Youssef",
         "male",
         null,
         "2",
         "0",
         "2662",
         "21.6792",
         null,
         "C"
        ],
        [
         "49",
         "50",
         "0",
         "3",
         "Arnold-Franchi, Mrs. Josef (Josefine Franchi)",
         "female",
         "18.0",
         "1",
         "0",
         "349237",
         "17.8",
         null,
         "S"
        ]
       ],
       "shape": {
        "columns": 12,
        "rows": 891
       }
      },
      "text/html": [
       "<div>\n",
       "<style scoped>\n",
       "    .dataframe tbody tr th:only-of-type {\n",
       "        vertical-align: middle;\n",
       "    }\n",
       "\n",
       "    .dataframe tbody tr th {\n",
       "        vertical-align: top;\n",
       "    }\n",
       "\n",
       "    .dataframe thead th {\n",
       "        text-align: right;\n",
       "    }\n",
       "</style>\n",
       "<table border=\"1\" class=\"dataframe\">\n",
       "  <thead>\n",
       "    <tr style=\"text-align: right;\">\n",
       "      <th></th>\n",
       "      <th>PassengerId</th>\n",
       "      <th>Survived</th>\n",
       "      <th>Pclass</th>\n",
       "      <th>Name</th>\n",
       "      <th>Sex</th>\n",
       "      <th>Age</th>\n",
       "      <th>SibSp</th>\n",
       "      <th>Parch</th>\n",
       "      <th>Ticket</th>\n",
       "      <th>Fare</th>\n",
       "      <th>Cabin</th>\n",
       "      <th>Embarked</th>\n",
       "    </tr>\n",
       "  </thead>\n",
       "  <tbody>\n",
       "    <tr>\n",
       "      <th>0</th>\n",
       "      <td>1</td>\n",
       "      <td>0</td>\n",
       "      <td>3</td>\n",
       "      <td>Braund, Mr. Owen Harris</td>\n",
       "      <td>male</td>\n",
       "      <td>22.0</td>\n",
       "      <td>1</td>\n",
       "      <td>0</td>\n",
       "      <td>A/5 21171</td>\n",
       "      <td>7.2500</td>\n",
       "      <td>NaN</td>\n",
       "      <td>S</td>\n",
       "    </tr>\n",
       "    <tr>\n",
       "      <th>1</th>\n",
       "      <td>2</td>\n",
       "      <td>1</td>\n",
       "      <td>1</td>\n",
       "      <td>Cumings, Mrs. John Bradley (Florence Briggs Th...</td>\n",
       "      <td>female</td>\n",
       "      <td>38.0</td>\n",
       "      <td>1</td>\n",
       "      <td>0</td>\n",
       "      <td>PC 17599</td>\n",
       "      <td>71.2833</td>\n",
       "      <td>C85</td>\n",
       "      <td>C</td>\n",
       "    </tr>\n",
       "    <tr>\n",
       "      <th>2</th>\n",
       "      <td>3</td>\n",
       "      <td>1</td>\n",
       "      <td>3</td>\n",
       "      <td>Heikkinen, Miss. Laina</td>\n",
       "      <td>female</td>\n",
       "      <td>26.0</td>\n",
       "      <td>0</td>\n",
       "      <td>0</td>\n",
       "      <td>STON/O2. 3101282</td>\n",
       "      <td>7.9250</td>\n",
       "      <td>NaN</td>\n",
       "      <td>S</td>\n",
       "    </tr>\n",
       "    <tr>\n",
       "      <th>3</th>\n",
       "      <td>4</td>\n",
       "      <td>1</td>\n",
       "      <td>1</td>\n",
       "      <td>Futrelle, Mrs. Jacques Heath (Lily May Peel)</td>\n",
       "      <td>female</td>\n",
       "      <td>35.0</td>\n",
       "      <td>1</td>\n",
       "      <td>0</td>\n",
       "      <td>113803</td>\n",
       "      <td>53.1000</td>\n",
       "      <td>C123</td>\n",
       "      <td>S</td>\n",
       "    </tr>\n",
       "    <tr>\n",
       "      <th>4</th>\n",
       "      <td>5</td>\n",
       "      <td>0</td>\n",
       "      <td>3</td>\n",
       "      <td>Allen, Mr. William Henry</td>\n",
       "      <td>male</td>\n",
       "      <td>35.0</td>\n",
       "      <td>0</td>\n",
       "      <td>0</td>\n",
       "      <td>373450</td>\n",
       "      <td>8.0500</td>\n",
       "      <td>NaN</td>\n",
       "      <td>S</td>\n",
       "    </tr>\n",
       "    <tr>\n",
       "      <th>...</th>\n",
       "      <td>...</td>\n",
       "      <td>...</td>\n",
       "      <td>...</td>\n",
       "      <td>...</td>\n",
       "      <td>...</td>\n",
       "      <td>...</td>\n",
       "      <td>...</td>\n",
       "      <td>...</td>\n",
       "      <td>...</td>\n",
       "      <td>...</td>\n",
       "      <td>...</td>\n",
       "      <td>...</td>\n",
       "    </tr>\n",
       "    <tr>\n",
       "      <th>886</th>\n",
       "      <td>887</td>\n",
       "      <td>0</td>\n",
       "      <td>2</td>\n",
       "      <td>Montvila, Rev. Juozas</td>\n",
       "      <td>male</td>\n",
       "      <td>27.0</td>\n",
       "      <td>0</td>\n",
       "      <td>0</td>\n",
       "      <td>211536</td>\n",
       "      <td>13.0000</td>\n",
       "      <td>NaN</td>\n",
       "      <td>S</td>\n",
       "    </tr>\n",
       "    <tr>\n",
       "      <th>887</th>\n",
       "      <td>888</td>\n",
       "      <td>1</td>\n",
       "      <td>1</td>\n",
       "      <td>Graham, Miss. Margaret Edith</td>\n",
       "      <td>female</td>\n",
       "      <td>19.0</td>\n",
       "      <td>0</td>\n",
       "      <td>0</td>\n",
       "      <td>112053</td>\n",
       "      <td>30.0000</td>\n",
       "      <td>B42</td>\n",
       "      <td>S</td>\n",
       "    </tr>\n",
       "    <tr>\n",
       "      <th>888</th>\n",
       "      <td>889</td>\n",
       "      <td>0</td>\n",
       "      <td>3</td>\n",
       "      <td>Johnston, Miss. Catherine Helen \"Carrie\"</td>\n",
       "      <td>female</td>\n",
       "      <td>NaN</td>\n",
       "      <td>1</td>\n",
       "      <td>2</td>\n",
       "      <td>W./C. 6607</td>\n",
       "      <td>23.4500</td>\n",
       "      <td>NaN</td>\n",
       "      <td>S</td>\n",
       "    </tr>\n",
       "    <tr>\n",
       "      <th>889</th>\n",
       "      <td>890</td>\n",
       "      <td>1</td>\n",
       "      <td>1</td>\n",
       "      <td>Behr, Mr. Karl Howell</td>\n",
       "      <td>male</td>\n",
       "      <td>26.0</td>\n",
       "      <td>0</td>\n",
       "      <td>0</td>\n",
       "      <td>111369</td>\n",
       "      <td>30.0000</td>\n",
       "      <td>C148</td>\n",
       "      <td>C</td>\n",
       "    </tr>\n",
       "    <tr>\n",
       "      <th>890</th>\n",
       "      <td>891</td>\n",
       "      <td>0</td>\n",
       "      <td>3</td>\n",
       "      <td>Dooley, Mr. Patrick</td>\n",
       "      <td>male</td>\n",
       "      <td>32.0</td>\n",
       "      <td>0</td>\n",
       "      <td>0</td>\n",
       "      <td>370376</td>\n",
       "      <td>7.7500</td>\n",
       "      <td>NaN</td>\n",
       "      <td>Q</td>\n",
       "    </tr>\n",
       "  </tbody>\n",
       "</table>\n",
       "<p>891 rows × 12 columns</p>\n",
       "</div>"
      ],
      "text/plain": [
       "     PassengerId  Survived  Pclass  \\\n",
       "0              1         0       3   \n",
       "1              2         1       1   \n",
       "2              3         1       3   \n",
       "3              4         1       1   \n",
       "4              5         0       3   \n",
       "..           ...       ...     ...   \n",
       "886          887         0       2   \n",
       "887          888         1       1   \n",
       "888          889         0       3   \n",
       "889          890         1       1   \n",
       "890          891         0       3   \n",
       "\n",
       "                                                  Name     Sex   Age  SibSp  \\\n",
       "0                              Braund, Mr. Owen Harris    male  22.0      1   \n",
       "1    Cumings, Mrs. John Bradley (Florence Briggs Th...  female  38.0      1   \n",
       "2                               Heikkinen, Miss. Laina  female  26.0      0   \n",
       "3         Futrelle, Mrs. Jacques Heath (Lily May Peel)  female  35.0      1   \n",
       "4                             Allen, Mr. William Henry    male  35.0      0   \n",
       "..                                                 ...     ...   ...    ...   \n",
       "886                              Montvila, Rev. Juozas    male  27.0      0   \n",
       "887                       Graham, Miss. Margaret Edith  female  19.0      0   \n",
       "888           Johnston, Miss. Catherine Helen \"Carrie\"  female   NaN      1   \n",
       "889                              Behr, Mr. Karl Howell    male  26.0      0   \n",
       "890                                Dooley, Mr. Patrick    male  32.0      0   \n",
       "\n",
       "     Parch            Ticket     Fare Cabin Embarked  \n",
       "0        0         A/5 21171   7.2500   NaN        S  \n",
       "1        0          PC 17599  71.2833   C85        C  \n",
       "2        0  STON/O2. 3101282   7.9250   NaN        S  \n",
       "3        0            113803  53.1000  C123        S  \n",
       "4        0            373450   8.0500   NaN        S  \n",
       "..     ...               ...      ...   ...      ...  \n",
       "886      0            211536  13.0000   NaN        S  \n",
       "887      0            112053  30.0000   B42        S  \n",
       "888      2        W./C. 6607  23.4500   NaN        S  \n",
       "889      0            111369  30.0000  C148        C  \n",
       "890      0            370376   7.7500   NaN        Q  \n",
       "\n",
       "[891 rows x 12 columns]"
      ]
     },
     "execution_count": 79,
     "metadata": {},
     "output_type": "execute_result"
    }
   ],
   "source": [
    "titanic_df = pd.read_csv(\"data/titanic_sample.csv\")\n",
    "titanic_df"
   ]
  },
  {
   "cell_type": "markdown",
   "id": "dcab2fa0",
   "metadata": {},
   "source": [
    "#### Removing scrap data"
   ]
  },
  {
   "cell_type": "code",
   "execution_count": 80,
   "id": "8576b8a7",
   "metadata": {},
   "outputs": [
    {
     "data": {
      "application/vnd.microsoft.datawrangler.viewer.v0+json": {
       "columns": [
        {
         "name": "index",
         "rawType": "int64",
         "type": "integer"
        },
        {
         "name": "PassengerId",
         "rawType": "int64",
         "type": "integer"
        },
        {
         "name": "Survived",
         "rawType": "int64",
         "type": "integer"
        },
        {
         "name": "Pclass",
         "rawType": "int64",
         "type": "integer"
        },
        {
         "name": "Sex",
         "rawType": "object",
         "type": "string"
        },
        {
         "name": "Age",
         "rawType": "float64",
         "type": "float"
        },
        {
         "name": "SibSp",
         "rawType": "int64",
         "type": "integer"
        },
        {
         "name": "Parch",
         "rawType": "int64",
         "type": "integer"
        },
        {
         "name": "Embarked",
         "rawType": "object",
         "type": "unknown"
        }
       ],
       "ref": "208aa71b-afe4-4326-81ba-f5a45eaa4fb2",
       "rows": [
        [
         "0",
         "1",
         "0",
         "3",
         "male",
         "22.0",
         "1",
         "0",
         "S"
        ],
        [
         "1",
         "2",
         "1",
         "1",
         "female",
         "38.0",
         "1",
         "0",
         "C"
        ],
        [
         "2",
         "3",
         "1",
         "3",
         "female",
         "26.0",
         "0",
         "0",
         "S"
        ],
        [
         "3",
         "4",
         "1",
         "1",
         "female",
         "35.0",
         "1",
         "0",
         "S"
        ],
        [
         "4",
         "5",
         "0",
         "3",
         "male",
         "35.0",
         "0",
         "0",
         "S"
        ],
        [
         "5",
         "6",
         "0",
         "3",
         "male",
         null,
         "0",
         "0",
         "Q"
        ],
        [
         "6",
         "7",
         "0",
         "1",
         "male",
         "54.0",
         "0",
         "0",
         "S"
        ],
        [
         "7",
         "8",
         "0",
         "3",
         "male",
         "2.0",
         "3",
         "1",
         "S"
        ],
        [
         "8",
         "9",
         "1",
         "3",
         "female",
         "27.0",
         "0",
         "2",
         "S"
        ],
        [
         "9",
         "10",
         "1",
         "2",
         "female",
         "14.0",
         "1",
         "0",
         "C"
        ],
        [
         "10",
         "11",
         "1",
         "3",
         "female",
         "4.0",
         "1",
         "1",
         "S"
        ],
        [
         "11",
         "12",
         "1",
         "1",
         "female",
         "58.0",
         "0",
         "0",
         "S"
        ],
        [
         "12",
         "13",
         "0",
         "3",
         "male",
         "20.0",
         "0",
         "0",
         "S"
        ],
        [
         "13",
         "14",
         "0",
         "3",
         "male",
         "39.0",
         "1",
         "5",
         "S"
        ],
        [
         "14",
         "15",
         "0",
         "3",
         "female",
         "14.0",
         "0",
         "0",
         "S"
        ],
        [
         "15",
         "16",
         "1",
         "2",
         "female",
         "55.0",
         "0",
         "0",
         "S"
        ],
        [
         "16",
         "17",
         "0",
         "3",
         "male",
         "2.0",
         "4",
         "1",
         "Q"
        ],
        [
         "17",
         "18",
         "1",
         "2",
         "male",
         null,
         "0",
         "0",
         "S"
        ],
        [
         "18",
         "19",
         "0",
         "3",
         "female",
         "31.0",
         "1",
         "0",
         "S"
        ],
        [
         "19",
         "20",
         "1",
         "3",
         "female",
         null,
         "0",
         "0",
         "C"
        ],
        [
         "20",
         "21",
         "0",
         "2",
         "male",
         "35.0",
         "0",
         "0",
         "S"
        ],
        [
         "21",
         "22",
         "1",
         "2",
         "male",
         "34.0",
         "0",
         "0",
         "S"
        ],
        [
         "22",
         "23",
         "1",
         "3",
         "female",
         "15.0",
         "0",
         "0",
         "Q"
        ],
        [
         "23",
         "24",
         "1",
         "1",
         "male",
         "28.0",
         "0",
         "0",
         "S"
        ],
        [
         "24",
         "25",
         "0",
         "3",
         "female",
         "8.0",
         "3",
         "1",
         "S"
        ],
        [
         "25",
         "26",
         "1",
         "3",
         "female",
         "38.0",
         "1",
         "5",
         "S"
        ],
        [
         "26",
         "27",
         "0",
         "3",
         "male",
         null,
         "0",
         "0",
         "C"
        ],
        [
         "27",
         "28",
         "0",
         "1",
         "male",
         "19.0",
         "3",
         "2",
         "S"
        ],
        [
         "28",
         "29",
         "1",
         "3",
         "female",
         null,
         "0",
         "0",
         "Q"
        ],
        [
         "29",
         "30",
         "0",
         "3",
         "male",
         null,
         "0",
         "0",
         "S"
        ],
        [
         "30",
         "31",
         "0",
         "1",
         "male",
         "40.0",
         "0",
         "0",
         "C"
        ],
        [
         "31",
         "32",
         "1",
         "1",
         "female",
         null,
         "1",
         "0",
         "C"
        ],
        [
         "32",
         "33",
         "1",
         "3",
         "female",
         null,
         "0",
         "0",
         "Q"
        ],
        [
         "33",
         "34",
         "0",
         "2",
         "male",
         "66.0",
         "0",
         "0",
         "S"
        ],
        [
         "34",
         "35",
         "0",
         "1",
         "male",
         "28.0",
         "1",
         "0",
         "C"
        ],
        [
         "35",
         "36",
         "0",
         "1",
         "male",
         "42.0",
         "1",
         "0",
         "S"
        ],
        [
         "36",
         "37",
         "1",
         "3",
         "male",
         null,
         "0",
         "0",
         "C"
        ],
        [
         "37",
         "38",
         "0",
         "3",
         "male",
         "21.0",
         "0",
         "0",
         "S"
        ],
        [
         "38",
         "39",
         "0",
         "3",
         "female",
         "18.0",
         "2",
         "0",
         "S"
        ],
        [
         "39",
         "40",
         "1",
         "3",
         "female",
         "14.0",
         "1",
         "0",
         "C"
        ],
        [
         "40",
         "41",
         "0",
         "3",
         "female",
         "40.0",
         "1",
         "0",
         "S"
        ],
        [
         "41",
         "42",
         "0",
         "2",
         "female",
         "27.0",
         "1",
         "0",
         "S"
        ],
        [
         "42",
         "43",
         "0",
         "3",
         "male",
         null,
         "0",
         "0",
         "C"
        ],
        [
         "43",
         "44",
         "1",
         "2",
         "female",
         "3.0",
         "1",
         "2",
         "C"
        ],
        [
         "44",
         "45",
         "1",
         "3",
         "female",
         "19.0",
         "0",
         "0",
         "Q"
        ],
        [
         "45",
         "46",
         "0",
         "3",
         "male",
         null,
         "0",
         "0",
         "S"
        ],
        [
         "46",
         "47",
         "0",
         "3",
         "male",
         null,
         "1",
         "0",
         "Q"
        ],
        [
         "47",
         "48",
         "1",
         "3",
         "female",
         null,
         "0",
         "0",
         "Q"
        ],
        [
         "48",
         "49",
         "0",
         "3",
         "male",
         null,
         "2",
         "0",
         "C"
        ],
        [
         "49",
         "50",
         "0",
         "3",
         "female",
         "18.0",
         "1",
         "0",
         "S"
        ]
       ],
       "shape": {
        "columns": 8,
        "rows": 891
       }
      },
      "text/html": [
       "<div>\n",
       "<style scoped>\n",
       "    .dataframe tbody tr th:only-of-type {\n",
       "        vertical-align: middle;\n",
       "    }\n",
       "\n",
       "    .dataframe tbody tr th {\n",
       "        vertical-align: top;\n",
       "    }\n",
       "\n",
       "    .dataframe thead th {\n",
       "        text-align: right;\n",
       "    }\n",
       "</style>\n",
       "<table border=\"1\" class=\"dataframe\">\n",
       "  <thead>\n",
       "    <tr style=\"text-align: right;\">\n",
       "      <th></th>\n",
       "      <th>PassengerId</th>\n",
       "      <th>Survived</th>\n",
       "      <th>Pclass</th>\n",
       "      <th>Sex</th>\n",
       "      <th>Age</th>\n",
       "      <th>SibSp</th>\n",
       "      <th>Parch</th>\n",
       "      <th>Embarked</th>\n",
       "    </tr>\n",
       "  </thead>\n",
       "  <tbody>\n",
       "    <tr>\n",
       "      <th>0</th>\n",
       "      <td>1</td>\n",
       "      <td>0</td>\n",
       "      <td>3</td>\n",
       "      <td>male</td>\n",
       "      <td>22.0</td>\n",
       "      <td>1</td>\n",
       "      <td>0</td>\n",
       "      <td>S</td>\n",
       "    </tr>\n",
       "    <tr>\n",
       "      <th>1</th>\n",
       "      <td>2</td>\n",
       "      <td>1</td>\n",
       "      <td>1</td>\n",
       "      <td>female</td>\n",
       "      <td>38.0</td>\n",
       "      <td>1</td>\n",
       "      <td>0</td>\n",
       "      <td>C</td>\n",
       "    </tr>\n",
       "    <tr>\n",
       "      <th>2</th>\n",
       "      <td>3</td>\n",
       "      <td>1</td>\n",
       "      <td>3</td>\n",
       "      <td>female</td>\n",
       "      <td>26.0</td>\n",
       "      <td>0</td>\n",
       "      <td>0</td>\n",
       "      <td>S</td>\n",
       "    </tr>\n",
       "    <tr>\n",
       "      <th>3</th>\n",
       "      <td>4</td>\n",
       "      <td>1</td>\n",
       "      <td>1</td>\n",
       "      <td>female</td>\n",
       "      <td>35.0</td>\n",
       "      <td>1</td>\n",
       "      <td>0</td>\n",
       "      <td>S</td>\n",
       "    </tr>\n",
       "    <tr>\n",
       "      <th>4</th>\n",
       "      <td>5</td>\n",
       "      <td>0</td>\n",
       "      <td>3</td>\n",
       "      <td>male</td>\n",
       "      <td>35.0</td>\n",
       "      <td>0</td>\n",
       "      <td>0</td>\n",
       "      <td>S</td>\n",
       "    </tr>\n",
       "    <tr>\n",
       "      <th>...</th>\n",
       "      <td>...</td>\n",
       "      <td>...</td>\n",
       "      <td>...</td>\n",
       "      <td>...</td>\n",
       "      <td>...</td>\n",
       "      <td>...</td>\n",
       "      <td>...</td>\n",
       "      <td>...</td>\n",
       "    </tr>\n",
       "    <tr>\n",
       "      <th>886</th>\n",
       "      <td>887</td>\n",
       "      <td>0</td>\n",
       "      <td>2</td>\n",
       "      <td>male</td>\n",
       "      <td>27.0</td>\n",
       "      <td>0</td>\n",
       "      <td>0</td>\n",
       "      <td>S</td>\n",
       "    </tr>\n",
       "    <tr>\n",
       "      <th>887</th>\n",
       "      <td>888</td>\n",
       "      <td>1</td>\n",
       "      <td>1</td>\n",
       "      <td>female</td>\n",
       "      <td>19.0</td>\n",
       "      <td>0</td>\n",
       "      <td>0</td>\n",
       "      <td>S</td>\n",
       "    </tr>\n",
       "    <tr>\n",
       "      <th>888</th>\n",
       "      <td>889</td>\n",
       "      <td>0</td>\n",
       "      <td>3</td>\n",
       "      <td>female</td>\n",
       "      <td>NaN</td>\n",
       "      <td>1</td>\n",
       "      <td>2</td>\n",
       "      <td>S</td>\n",
       "    </tr>\n",
       "    <tr>\n",
       "      <th>889</th>\n",
       "      <td>890</td>\n",
       "      <td>1</td>\n",
       "      <td>1</td>\n",
       "      <td>male</td>\n",
       "      <td>26.0</td>\n",
       "      <td>0</td>\n",
       "      <td>0</td>\n",
       "      <td>C</td>\n",
       "    </tr>\n",
       "    <tr>\n",
       "      <th>890</th>\n",
       "      <td>891</td>\n",
       "      <td>0</td>\n",
       "      <td>3</td>\n",
       "      <td>male</td>\n",
       "      <td>32.0</td>\n",
       "      <td>0</td>\n",
       "      <td>0</td>\n",
       "      <td>Q</td>\n",
       "    </tr>\n",
       "  </tbody>\n",
       "</table>\n",
       "<p>891 rows × 8 columns</p>\n",
       "</div>"
      ],
      "text/plain": [
       "     PassengerId  Survived  Pclass     Sex   Age  SibSp  Parch Embarked\n",
       "0              1         0       3    male  22.0      1      0        S\n",
       "1              2         1       1  female  38.0      1      0        C\n",
       "2              3         1       3  female  26.0      0      0        S\n",
       "3              4         1       1  female  35.0      1      0        S\n",
       "4              5         0       3    male  35.0      0      0        S\n",
       "..           ...       ...     ...     ...   ...    ...    ...      ...\n",
       "886          887         0       2    male  27.0      0      0        S\n",
       "887          888         1       1  female  19.0      0      0        S\n",
       "888          889         0       3  female   NaN      1      2        S\n",
       "889          890         1       1    male  26.0      0      0        C\n",
       "890          891         0       3    male  32.0      0      0        Q\n",
       "\n",
       "[891 rows x 8 columns]"
      ]
     },
     "execution_count": 80,
     "metadata": {},
     "output_type": "execute_result"
    }
   ],
   "source": [
    "mod_titanic_df = titanic_df.drop(columns=[\"Name\", \"Ticket\", \"Cabin\", \"Fare\"])\n",
    "mod_titanic_df"
   ]
  },
  {
   "cell_type": "code",
   "execution_count": 81,
   "id": "daa8fb14",
   "metadata": {},
   "outputs": [
    {
     "data": {
      "text/plain": [
       "['Age', 'Embarked']"
      ]
     },
     "execution_count": 81,
     "metadata": {},
     "output_type": "execute_result"
    }
   ],
   "source": [
    "mod_titanic_df.columns[mod_titanic_df.isnull().any()].to_list()"
   ]
  },
  {
   "cell_type": "code",
   "execution_count": 82,
   "id": "98ff88ea",
   "metadata": {},
   "outputs": [
    {
     "data": {
      "application/vnd.microsoft.datawrangler.viewer.v0+json": {
       "columns": [
        {
         "name": "index",
         "rawType": "object",
         "type": "string"
        },
        {
         "name": "0",
         "rawType": "bool",
         "type": "boolean"
        }
       ],
       "ref": "9ae01a21-9488-4f5d-b291-446ae96ca308",
       "rows": [
        [
         "PassengerId",
         "False"
        ],
        [
         "Survived",
         "False"
        ],
        [
         "Pclass",
         "False"
        ],
        [
         "Sex",
         "False"
        ],
        [
         "Age",
         "False"
        ],
        [
         "SibSp",
         "False"
        ],
        [
         "Parch",
         "False"
        ],
        [
         "Embarked",
         "False"
        ]
       ],
       "shape": {
        "columns": 1,
        "rows": 8
       }
      },
      "text/plain": [
       "PassengerId    False\n",
       "Survived       False\n",
       "Pclass         False\n",
       "Sex            False\n",
       "Age            False\n",
       "SibSp          False\n",
       "Parch          False\n",
       "Embarked       False\n",
       "dtype: bool"
      ]
     },
     "execution_count": 82,
     "metadata": {},
     "output_type": "execute_result"
    }
   ],
   "source": [
    "\n",
    "mod_titanic_df[\"Age\"] = mod_titanic_df[\"Age\"].fillna(mod_titanic_df[\"Age\"].mean())\n",
    "mod_titanic_df[\"Embarked\"] = mod_titanic_df[\"Embarked\"].fillna(mod_titanic_df[\"Embarked\"].mode()[0])\n",
    "mod_titanic_df.isnull().any()"
   ]
  },
  {
   "cell_type": "code",
   "execution_count": 83,
   "id": "673e2dc3",
   "metadata": {},
   "outputs": [
    {
     "data": {
      "application/vnd.microsoft.datawrangler.viewer.v0+json": {
       "columns": [
        {
         "name": "index",
         "rawType": "int64",
         "type": "integer"
        },
        {
         "name": "PassengerId",
         "rawType": "int64",
         "type": "integer"
        },
        {
         "name": "Survived",
         "rawType": "int64",
         "type": "integer"
        },
        {
         "name": "Pclass",
         "rawType": "int64",
         "type": "integer"
        },
        {
         "name": "Sex",
         "rawType": "int64",
         "type": "integer"
        },
        {
         "name": "Age",
         "rawType": "float64",
         "type": "float"
        },
        {
         "name": "SibSp",
         "rawType": "int64",
         "type": "integer"
        },
        {
         "name": "Parch",
         "rawType": "int64",
         "type": "integer"
        },
        {
         "name": "Embarked",
         "rawType": "int64",
         "type": "integer"
        }
       ],
       "ref": "14723767-403c-458f-a3df-b2ce37f35c0a",
       "rows": [
        [
         "0",
         "1",
         "0",
         "3",
         "0",
         "22.0",
         "1",
         "0",
         "0"
        ],
        [
         "1",
         "2",
         "1",
         "1",
         "1",
         "38.0",
         "1",
         "0",
         "1"
        ],
        [
         "2",
         "3",
         "1",
         "3",
         "1",
         "26.0",
         "0",
         "0",
         "0"
        ],
        [
         "3",
         "4",
         "1",
         "1",
         "1",
         "35.0",
         "1",
         "0",
         "0"
        ],
        [
         "4",
         "5",
         "0",
         "3",
         "0",
         "35.0",
         "0",
         "0",
         "0"
        ],
        [
         "5",
         "6",
         "0",
         "3",
         "0",
         "29.69911764705882",
         "0",
         "0",
         "2"
        ],
        [
         "6",
         "7",
         "0",
         "1",
         "0",
         "54.0",
         "0",
         "0",
         "0"
        ],
        [
         "7",
         "8",
         "0",
         "3",
         "0",
         "2.0",
         "3",
         "1",
         "0"
        ],
        [
         "8",
         "9",
         "1",
         "3",
         "1",
         "27.0",
         "0",
         "2",
         "0"
        ],
        [
         "9",
         "10",
         "1",
         "2",
         "1",
         "14.0",
         "1",
         "0",
         "1"
        ],
        [
         "10",
         "11",
         "1",
         "3",
         "1",
         "4.0",
         "1",
         "1",
         "0"
        ],
        [
         "11",
         "12",
         "1",
         "1",
         "1",
         "58.0",
         "0",
         "0",
         "0"
        ],
        [
         "12",
         "13",
         "0",
         "3",
         "0",
         "20.0",
         "0",
         "0",
         "0"
        ],
        [
         "13",
         "14",
         "0",
         "3",
         "0",
         "39.0",
         "1",
         "5",
         "0"
        ],
        [
         "14",
         "15",
         "0",
         "3",
         "1",
         "14.0",
         "0",
         "0",
         "0"
        ],
        [
         "15",
         "16",
         "1",
         "2",
         "1",
         "55.0",
         "0",
         "0",
         "0"
        ],
        [
         "16",
         "17",
         "0",
         "3",
         "0",
         "2.0",
         "4",
         "1",
         "2"
        ],
        [
         "17",
         "18",
         "1",
         "2",
         "0",
         "29.69911764705882",
         "0",
         "0",
         "0"
        ],
        [
         "18",
         "19",
         "0",
         "3",
         "1",
         "31.0",
         "1",
         "0",
         "0"
        ],
        [
         "19",
         "20",
         "1",
         "3",
         "1",
         "29.69911764705882",
         "0",
         "0",
         "1"
        ],
        [
         "20",
         "21",
         "0",
         "2",
         "0",
         "35.0",
         "0",
         "0",
         "0"
        ],
        [
         "21",
         "22",
         "1",
         "2",
         "0",
         "34.0",
         "0",
         "0",
         "0"
        ],
        [
         "22",
         "23",
         "1",
         "3",
         "1",
         "15.0",
         "0",
         "0",
         "2"
        ],
        [
         "23",
         "24",
         "1",
         "1",
         "0",
         "28.0",
         "0",
         "0",
         "0"
        ],
        [
         "24",
         "25",
         "0",
         "3",
         "1",
         "8.0",
         "3",
         "1",
         "0"
        ],
        [
         "25",
         "26",
         "1",
         "3",
         "1",
         "38.0",
         "1",
         "5",
         "0"
        ],
        [
         "26",
         "27",
         "0",
         "3",
         "0",
         "29.69911764705882",
         "0",
         "0",
         "1"
        ],
        [
         "27",
         "28",
         "0",
         "1",
         "0",
         "19.0",
         "3",
         "2",
         "0"
        ],
        [
         "28",
         "29",
         "1",
         "3",
         "1",
         "29.69911764705882",
         "0",
         "0",
         "2"
        ],
        [
         "29",
         "30",
         "0",
         "3",
         "0",
         "29.69911764705882",
         "0",
         "0",
         "0"
        ],
        [
         "30",
         "31",
         "0",
         "1",
         "0",
         "40.0",
         "0",
         "0",
         "1"
        ],
        [
         "31",
         "32",
         "1",
         "1",
         "1",
         "29.69911764705882",
         "1",
         "0",
         "1"
        ],
        [
         "32",
         "33",
         "1",
         "3",
         "1",
         "29.69911764705882",
         "0",
         "0",
         "2"
        ],
        [
         "33",
         "34",
         "0",
         "2",
         "0",
         "66.0",
         "0",
         "0",
         "0"
        ],
        [
         "34",
         "35",
         "0",
         "1",
         "0",
         "28.0",
         "1",
         "0",
         "1"
        ],
        [
         "35",
         "36",
         "0",
         "1",
         "0",
         "42.0",
         "1",
         "0",
         "0"
        ],
        [
         "36",
         "37",
         "1",
         "3",
         "0",
         "29.69911764705882",
         "0",
         "0",
         "1"
        ],
        [
         "37",
         "38",
         "0",
         "3",
         "0",
         "21.0",
         "0",
         "0",
         "0"
        ],
        [
         "38",
         "39",
         "0",
         "3",
         "1",
         "18.0",
         "2",
         "0",
         "0"
        ],
        [
         "39",
         "40",
         "1",
         "3",
         "1",
         "14.0",
         "1",
         "0",
         "1"
        ],
        [
         "40",
         "41",
         "0",
         "3",
         "1",
         "40.0",
         "1",
         "0",
         "0"
        ],
        [
         "41",
         "42",
         "0",
         "2",
         "1",
         "27.0",
         "1",
         "0",
         "0"
        ],
        [
         "42",
         "43",
         "0",
         "3",
         "0",
         "29.69911764705882",
         "0",
         "0",
         "1"
        ],
        [
         "43",
         "44",
         "1",
         "2",
         "1",
         "3.0",
         "1",
         "2",
         "1"
        ],
        [
         "44",
         "45",
         "1",
         "3",
         "1",
         "19.0",
         "0",
         "0",
         "2"
        ],
        [
         "45",
         "46",
         "0",
         "3",
         "0",
         "29.69911764705882",
         "0",
         "0",
         "0"
        ],
        [
         "46",
         "47",
         "0",
         "3",
         "0",
         "29.69911764705882",
         "1",
         "0",
         "2"
        ],
        [
         "47",
         "48",
         "1",
         "3",
         "1",
         "29.69911764705882",
         "0",
         "0",
         "2"
        ],
        [
         "48",
         "49",
         "0",
         "3",
         "0",
         "29.69911764705882",
         "2",
         "0",
         "1"
        ],
        [
         "49",
         "50",
         "0",
         "3",
         "1",
         "18.0",
         "1",
         "0",
         "0"
        ]
       ],
       "shape": {
        "columns": 8,
        "rows": 891
       }
      },
      "text/html": [
       "<div>\n",
       "<style scoped>\n",
       "    .dataframe tbody tr th:only-of-type {\n",
       "        vertical-align: middle;\n",
       "    }\n",
       "\n",
       "    .dataframe tbody tr th {\n",
       "        vertical-align: top;\n",
       "    }\n",
       "\n",
       "    .dataframe thead th {\n",
       "        text-align: right;\n",
       "    }\n",
       "</style>\n",
       "<table border=\"1\" class=\"dataframe\">\n",
       "  <thead>\n",
       "    <tr style=\"text-align: right;\">\n",
       "      <th></th>\n",
       "      <th>PassengerId</th>\n",
       "      <th>Survived</th>\n",
       "      <th>Pclass</th>\n",
       "      <th>Sex</th>\n",
       "      <th>Age</th>\n",
       "      <th>SibSp</th>\n",
       "      <th>Parch</th>\n",
       "      <th>Embarked</th>\n",
       "    </tr>\n",
       "  </thead>\n",
       "  <tbody>\n",
       "    <tr>\n",
       "      <th>0</th>\n",
       "      <td>1</td>\n",
       "      <td>0</td>\n",
       "      <td>3</td>\n",
       "      <td>0</td>\n",
       "      <td>22.000000</td>\n",
       "      <td>1</td>\n",
       "      <td>0</td>\n",
       "      <td>0</td>\n",
       "    </tr>\n",
       "    <tr>\n",
       "      <th>1</th>\n",
       "      <td>2</td>\n",
       "      <td>1</td>\n",
       "      <td>1</td>\n",
       "      <td>1</td>\n",
       "      <td>38.000000</td>\n",
       "      <td>1</td>\n",
       "      <td>0</td>\n",
       "      <td>1</td>\n",
       "    </tr>\n",
       "    <tr>\n",
       "      <th>2</th>\n",
       "      <td>3</td>\n",
       "      <td>1</td>\n",
       "      <td>3</td>\n",
       "      <td>1</td>\n",
       "      <td>26.000000</td>\n",
       "      <td>0</td>\n",
       "      <td>0</td>\n",
       "      <td>0</td>\n",
       "    </tr>\n",
       "    <tr>\n",
       "      <th>3</th>\n",
       "      <td>4</td>\n",
       "      <td>1</td>\n",
       "      <td>1</td>\n",
       "      <td>1</td>\n",
       "      <td>35.000000</td>\n",
       "      <td>1</td>\n",
       "      <td>0</td>\n",
       "      <td>0</td>\n",
       "    </tr>\n",
       "    <tr>\n",
       "      <th>4</th>\n",
       "      <td>5</td>\n",
       "      <td>0</td>\n",
       "      <td>3</td>\n",
       "      <td>0</td>\n",
       "      <td>35.000000</td>\n",
       "      <td>0</td>\n",
       "      <td>0</td>\n",
       "      <td>0</td>\n",
       "    </tr>\n",
       "    <tr>\n",
       "      <th>...</th>\n",
       "      <td>...</td>\n",
       "      <td>...</td>\n",
       "      <td>...</td>\n",
       "      <td>...</td>\n",
       "      <td>...</td>\n",
       "      <td>...</td>\n",
       "      <td>...</td>\n",
       "      <td>...</td>\n",
       "    </tr>\n",
       "    <tr>\n",
       "      <th>886</th>\n",
       "      <td>887</td>\n",
       "      <td>0</td>\n",
       "      <td>2</td>\n",
       "      <td>0</td>\n",
       "      <td>27.000000</td>\n",
       "      <td>0</td>\n",
       "      <td>0</td>\n",
       "      <td>0</td>\n",
       "    </tr>\n",
       "    <tr>\n",
       "      <th>887</th>\n",
       "      <td>888</td>\n",
       "      <td>1</td>\n",
       "      <td>1</td>\n",
       "      <td>1</td>\n",
       "      <td>19.000000</td>\n",
       "      <td>0</td>\n",
       "      <td>0</td>\n",
       "      <td>0</td>\n",
       "    </tr>\n",
       "    <tr>\n",
       "      <th>888</th>\n",
       "      <td>889</td>\n",
       "      <td>0</td>\n",
       "      <td>3</td>\n",
       "      <td>1</td>\n",
       "      <td>29.699118</td>\n",
       "      <td>1</td>\n",
       "      <td>2</td>\n",
       "      <td>0</td>\n",
       "    </tr>\n",
       "    <tr>\n",
       "      <th>889</th>\n",
       "      <td>890</td>\n",
       "      <td>1</td>\n",
       "      <td>1</td>\n",
       "      <td>0</td>\n",
       "      <td>26.000000</td>\n",
       "      <td>0</td>\n",
       "      <td>0</td>\n",
       "      <td>1</td>\n",
       "    </tr>\n",
       "    <tr>\n",
       "      <th>890</th>\n",
       "      <td>891</td>\n",
       "      <td>0</td>\n",
       "      <td>3</td>\n",
       "      <td>0</td>\n",
       "      <td>32.000000</td>\n",
       "      <td>0</td>\n",
       "      <td>0</td>\n",
       "      <td>2</td>\n",
       "    </tr>\n",
       "  </tbody>\n",
       "</table>\n",
       "<p>891 rows × 8 columns</p>\n",
       "</div>"
      ],
      "text/plain": [
       "     PassengerId  Survived  Pclass  Sex        Age  SibSp  Parch  Embarked\n",
       "0              1         0       3    0  22.000000      1      0         0\n",
       "1              2         1       1    1  38.000000      1      0         1\n",
       "2              3         1       3    1  26.000000      0      0         0\n",
       "3              4         1       1    1  35.000000      1      0         0\n",
       "4              5         0       3    0  35.000000      0      0         0\n",
       "..           ...       ...     ...  ...        ...    ...    ...       ...\n",
       "886          887         0       2    0  27.000000      0      0         0\n",
       "887          888         1       1    1  19.000000      0      0         0\n",
       "888          889         0       3    1  29.699118      1      2         0\n",
       "889          890         1       1    0  26.000000      0      0         1\n",
       "890          891         0       3    0  32.000000      0      0         2\n",
       "\n",
       "[891 rows x 8 columns]"
      ]
     },
     "execution_count": 83,
     "metadata": {},
     "output_type": "execute_result"
    }
   ],
   "source": [
    "embarked_map = {x:i for i, x in enumerate(Counter(mod_titanic_df[\"Embarked\"]).keys())}\n",
    "sex_map = {x:i for i, x in enumerate(Counter(mod_titanic_df[\"Sex\"]).keys())}\n",
    "mod_titanic_df[\"Embarked\"] = mod_titanic_df[\"Embarked\"].map(embarked_map)\n",
    "mod_titanic_df[\"Sex\"] = mod_titanic_df[\"Sex\"].map(sex_map)\n",
    "mod_titanic_df"
   ]
  },
  {
   "cell_type": "code",
   "execution_count": 84,
   "id": "dad827e9",
   "metadata": {},
   "outputs": [],
   "source": [
    "titan_train = mod_titanic_df.drop(columns=[\"Survived\"])\n",
    "titan_test = mod_titanic_df[\"Survived\"]\n",
    "titan_train_x, titan_test_x, titan_train_y, titan_test_y = train_test_split(titan_train, titan_test, test_size=0.2, random_state=42)"
   ]
  },
  {
   "cell_type": "code",
   "execution_count": 85,
   "id": "947dff95",
   "metadata": {},
   "outputs": [
    {
     "data": {
      "application/vnd.microsoft.datawrangler.viewer.v0+json": {
       "columns": [
        {
         "name": "index",
         "rawType": "int64",
         "type": "integer"
        },
        {
         "name": "0",
         "rawType": "int64",
         "type": "integer"
        }
       ],
       "ref": "d31a09c0-2c63-4471-9c73-aa175bc113c2",
       "rows": [
        [
         "0",
         "0"
        ],
        [
         "1",
         "0"
        ],
        [
         "2",
         "0"
        ],
        [
         "3",
         "1"
        ],
        [
         "4",
         "0"
        ],
        [
         "5",
         "1"
        ],
        [
         "6",
         "1"
        ],
        [
         "7",
         "0"
        ],
        [
         "8",
         "0"
        ],
        [
         "9",
         "1"
        ],
        [
         "10",
         "0"
        ],
        [
         "11",
         "0"
        ],
        [
         "12",
         "0"
        ],
        [
         "13",
         "0"
        ],
        [
         "14",
         "0"
        ],
        [
         "15",
         "1"
        ],
        [
         "16",
         "1"
        ],
        [
         "17",
         "1"
        ],
        [
         "18",
         "0"
        ],
        [
         "19",
         "0"
        ],
        [
         "20",
         "0"
        ],
        [
         "21",
         "0"
        ],
        [
         "22",
         "0"
        ],
        [
         "23",
         "0"
        ],
        [
         "24",
         "0"
        ],
        [
         "25",
         "0"
        ],
        [
         "26",
         "0"
        ],
        [
         "27",
         "0"
        ],
        [
         "28",
         "1"
        ],
        [
         "29",
         "0"
        ],
        [
         "30",
         "0"
        ],
        [
         "31",
         "1"
        ],
        [
         "32",
         "0"
        ],
        [
         "33",
         "0"
        ],
        [
         "34",
         "0"
        ],
        [
         "35",
         "0"
        ],
        [
         "36",
         "0"
        ],
        [
         "37",
         "1"
        ],
        [
         "38",
         "1"
        ],
        [
         "39",
         "0"
        ],
        [
         "40",
         "0"
        ],
        [
         "41",
         "0"
        ],
        [
         "42",
         "0"
        ],
        [
         "43",
         "0"
        ],
        [
         "44",
         "1"
        ],
        [
         "45",
         "0"
        ],
        [
         "46",
         "0"
        ],
        [
         "47",
         "0"
        ],
        [
         "48",
         "0"
        ],
        [
         "49",
         "1"
        ]
       ],
       "shape": {
        "columns": 1,
        "rows": 179
       }
      },
      "text/plain": [
       "0      0\n",
       "1      0\n",
       "2      0\n",
       "3      1\n",
       "4      0\n",
       "      ..\n",
       "174    0\n",
       "175    0\n",
       "176    0\n",
       "177    1\n",
       "178    0\n",
       "Length: 179, dtype: int64"
      ]
     },
     "execution_count": 85,
     "metadata": {},
     "output_type": "execute_result"
    }
   ],
   "source": [
    "model_titanic = DecisionTreeClassifier(max_depth = 5)\n",
    "model_titanic.fit(titan_train_x, titan_train_y)\n",
    "y_pred = model_titanic.predict(titan_test_x)\n",
    "y_pred"
   ]
  },
  {
   "cell_type": "code",
   "execution_count": 86,
   "id": "ec8705ee",
   "metadata": {},
   "outputs": [
    {
     "data": {
      "application/vnd.microsoft.datawrangler.viewer.v0+json": {
       "columns": [
        {
         "name": "index",
         "rawType": "int64",
         "type": "integer"
        },
        {
         "name": "0",
         "rawType": "int64",
         "type": "integer"
        }
       ],
       "ref": "b246c082-6014-44f3-ac3d-8327b21dece3",
       "rows": [
        [
         "0",
         "0"
        ],
        [
         "1",
         "0"
        ],
        [
         "2",
         "0"
        ],
        [
         "3",
         "1"
        ],
        [
         "4",
         "1"
        ],
        [
         "5",
         "1"
        ],
        [
         "6",
         "1"
        ],
        [
         "7",
         "0"
        ],
        [
         "8",
         "1"
        ],
        [
         "9",
         "1"
        ],
        [
         "10",
         "0"
        ],
        [
         "11",
         "0"
        ],
        [
         "12",
         "0"
        ],
        [
         "13",
         "0"
        ],
        [
         "14",
         "0"
        ],
        [
         "15",
         "1"
        ],
        [
         "16",
         "1"
        ],
        [
         "17",
         "1"
        ],
        [
         "18",
         "0"
        ],
        [
         "19",
         "0"
        ],
        [
         "20",
         "0"
        ],
        [
         "21",
         "0"
        ],
        [
         "22",
         "0"
        ],
        [
         "23",
         "0"
        ],
        [
         "24",
         "0"
        ],
        [
         "25",
         "0"
        ],
        [
         "26",
         "0"
        ],
        [
         "27",
         "0"
        ],
        [
         "28",
         "1"
        ],
        [
         "29",
         "0"
        ],
        [
         "30",
         "0"
        ],
        [
         "31",
         "1"
        ],
        [
         "32",
         "0"
        ],
        [
         "33",
         "0"
        ],
        [
         "34",
         "0"
        ],
        [
         "35",
         "0"
        ],
        [
         "36",
         "0"
        ],
        [
         "37",
         "1"
        ],
        [
         "38",
         "1"
        ],
        [
         "39",
         "0"
        ],
        [
         "40",
         "0"
        ],
        [
         "41",
         "0"
        ],
        [
         "42",
         "0"
        ],
        [
         "43",
         "0"
        ],
        [
         "44",
         "1"
        ],
        [
         "45",
         "0"
        ],
        [
         "46",
         "0"
        ],
        [
         "47",
         "0"
        ],
        [
         "48",
         "0"
        ],
        [
         "49",
         "1"
        ]
       ],
       "shape": {
        "columns": 1,
        "rows": 179
       }
      },
      "text/plain": [
       "0      0\n",
       "1      0\n",
       "2      0\n",
       "3      1\n",
       "4      1\n",
       "      ..\n",
       "174    0\n",
       "175    0\n",
       "176    0\n",
       "177    1\n",
       "178    0\n",
       "Length: 179, dtype: int64"
      ]
     },
     "execution_count": 86,
     "metadata": {},
     "output_type": "execute_result"
    }
   ],
   "source": [
    "skl_model_titanic = skl_DTC(max_depth=5)\n",
    "skl_model_titanic.fit(titan_train_x, titan_train_y)\n",
    "skl_y_pred = pd.Series(skl_model_titanic.predict(titan_test_x))\n",
    "skl_y_pred"
   ]
  },
  {
   "cell_type": "code",
   "execution_count": 87,
   "id": "7517e990",
   "metadata": {},
   "outputs": [
    {
     "name": "stdout",
     "output_type": "stream",
     "text": [
      "No, the predictions do not match.\n"
     ]
    }
   ],
   "source": [
    "if (y_pred == skl_y_pred).all():\n",
    "    print(\"Yes\")\n",
    "else:\n",
    "    print(\"No, the predictions do not match.\")"
   ]
  },
  {
   "cell_type": "code",
   "execution_count": 88,
   "id": "f07947cf",
   "metadata": {},
   "outputs": [
    {
     "name": "stdout",
     "output_type": "stream",
     "text": [
      "Custom Model Accuracy: 0.7877094972067039\n",
      "Sklearn Model Accuracy: 0.7988826815642458\n"
     ]
    }
   ],
   "source": [
    "accuracy = accuracy_score(titan_test_y, y_pred)\n",
    "skl_accuracy = accuracy_score(titan_test_y, skl_y_pred)\n",
    "print(f\"Custom Model Accuracy: {accuracy}\")\n",
    "print(f\"Sklearn Model Accuracy: {skl_accuracy}\")"
   ]
  },
  {
   "cell_type": "markdown",
   "id": "cb4961f5",
   "metadata": {},
   "source": [
    "Edge cases: no data, all same label, single row, etc."
   ]
  }
 ],
 "metadata": {
  "kernelspec": {
   "display_name": "dsmlai",
   "language": "python",
   "name": "python3"
  },
  "language_info": {
   "codemirror_mode": {
    "name": "ipython",
    "version": 3
   },
   "file_extension": ".py",
   "mimetype": "text/x-python",
   "name": "python",
   "nbconvert_exporter": "python",
   "pygments_lexer": "ipython3",
   "version": "3.13.3"
  }
 },
 "nbformat": 4,
 "nbformat_minor": 5
}
