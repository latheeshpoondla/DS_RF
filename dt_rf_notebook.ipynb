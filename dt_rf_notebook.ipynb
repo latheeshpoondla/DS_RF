{
 "cells": [
  {
   "cell_type": "markdown",
   "id": "ae9b4f9d",
   "metadata": {},
   "source": [
    "# Decision Tree"
   ]
  },
  {
   "cell_type": "code",
   "execution_count": 307,
   "id": "0f41c97a",
   "metadata": {},
   "outputs": [],
   "source": [
    "import pandas as pd\n",
    "from abc import ABC, abstractmethod\n",
    "from collections import Counter\n",
    "import numpy as np"
   ]
  },
  {
   "cell_type": "code",
   "execution_count": 308,
   "id": "476d7784",
   "metadata": {},
   "outputs": [],
   "source": [
    "class Classifier(ABC):\n",
    "    class Tree():\n",
    "        def __init__(self, feature_index: int = None, threshold: float = None, left: 'Classifier.Tree' = None, right: 'Classifier.Tree' = None, lvalue: int = None, rvalue: int = None):\n",
    "            \"\"\"\n",
    "            A node in the decision tree.\n",
    "            :param feature_index: Index of the feature to split on.\n",
    "            :param threshold: Threshold value for the split.\n",
    "            :param left: Left child node.\n",
    "            :param right: Right child node.\n",
    "            :param value: Class label if it's a leaf node.\n",
    "            \"\"\"\n",
    "            self.feature_index = feature_index\n",
    "            self.threshold = threshold\n",
    "            self.left = left\n",
    "            self.right = right\n",
    "            self.lvalue = lvalue\n",
    "            self.rvalue = rvalue\n",
    "            \n",
    "    def gini_impurity(self, x):\n",
    "        \"\"\"\n",
    "        Calculate the Gini impurity for a given set of labels.\n",
    "\n",
    "        :param x: A list of labels. (Series, list, DataFrame-column, etc.)\n",
    "        :return: The Gini impurity value.\n",
    "        \"\"\"\n",
    "        if x.empty:\n",
    "            return 0.0\n",
    "\n",
    "        total_count = len(x)\n",
    "        label_counts = Counter(x)\n",
    "\n",
    "        impurity = 1.0\n",
    "        for count in label_counts.values():\n",
    "            probability = count / total_count\n",
    "            impurity -= probability ** 2\n",
    "\n",
    "        return impurity, label_counts\n",
    "    \n",
    "    def weighted_average(self, gi1, gi2, w1, w2):\n",
    "        \"\"\"Calculate Weighted Gini Impurity Average of two Gini impurity values\"\"\"\n",
    "        return {0:(gi1 * w1)/(w1+w2), 1:(gi2 * w2) / (w1 + w2)}"
   ]
  },
  {
   "cell_type": "code",
   "execution_count": 309,
   "id": "4c3044a5",
   "metadata": {},
   "outputs": [],
   "source": [
    "class DecisionTreeClassifier(Classifier):\n",
    "    def __init__(self, max_depth:int =None):\n",
    "        self.max_depth = max_depth\n",
    "        self.root = None\n",
    "        \n",
    "    def __check_GI(self, X, y):\n",
    "        \"\"\"\n",
    "        This method should implement the logic to find the best feature and threshold to split on based on Gini impurity.\n",
    "        \"\"\"\n",
    "        col_lbl_cts =[np.array(sorted(Counter(X[i]).keys())) for i in X.columns]\n",
    "        thresholds = [(a[:-1]+a[1:])/2 if a.size>1 else [] for a in col_lbl_cts]\n",
    "\n",
    "        GIs = {}\n",
    "        for i in range(len(thresholds)):\n",
    "            for j in thresholds[i]:\n",
    "                X_l = X[X.iloc[:, i] <= j]\n",
    "                X_r = X[X.iloc[:, i] > j]\n",
    "                y_l = y[X.iloc[:, i] <= j]\n",
    "                y_r = y[X.iloc[:, i] > j]\n",
    "                \n",
    "                gi_l, lc_l = self.gini_impurity(y_l)\n",
    "                gi_r, lc_r = self.gini_impurity(y_r)\n",
    "                \n",
    "                w1, w2 = len(X_l), len(X_r)\n",
    "                gi_avg = self.weighted_average(gi_l, gi_r, w1, w2)\n",
    "                GIs[gi_avg[0] + gi_avg[1]] = (i, j, gi_l, gi_r, lc_l, lc_r)\n",
    "        \n",
    "        return GIs[min(GIs.keys())] if GIs else (None, None, None, None, None, None)\n",
    "    \n",
    "    def __build_tree(self, X, y, root, depth=1):\n",
    "        \"\"\"\n",
    "        Recursively build the decision tree.\n",
    "        :param root: The current node in the tree.\n",
    "        :param depth: Current depth of the tree.\n",
    "        \"\"\"\n",
    "        fi, thr, gi_l, gi_r, lc_l, lc_l = None, None, None, None, None, None\n",
    "        if self.max_depth >= depth:\n",
    "            fi, thr, gi_l, gi_r, lc_l, lc_r= self.__check_GI(X, y)\n",
    "            root.feature_index = fi\n",
    "            root.threshold = thr\n",
    "\n",
    "        if self.max_depth == depth:\n",
    "            root.lvalue = lc_l.most_common(1)[0][0]\n",
    "            root.rvalue = lc_r.most_common(1)[0][0]\n",
    "        else:\n",
    "            if gi_l != 0:\n",
    "                root.left = self.Tree()\n",
    "                self.__build_tree(X[X.iloc[:, fi] <= thr], y[X.iloc[:, fi] <= thr], root.left, depth + 1)\n",
    "            else:\n",
    "                root.lvalue = lc_l.most_common(1)[0][0]\n",
    "            if gi_r != 0:\n",
    "                root.right = self.Tree()\n",
    "                self.__build_tree(X[X.iloc[:, fi] > thr], y[X.iloc[:, fi] > thr], root.right, depth + 1)\n",
    "            else:\n",
    "                root.rvalue = lc_r.most_common(1)[0][0]\n",
    "            \n",
    "    def fit(self, X, y):\n",
    "        if not isinstance(X, pd.DataFrame):\n",
    "            raise TypeError(\"X must be a pandas DataFrame\")\n",
    "        if not isinstance(y, pd.Series):\n",
    "            raise TypeError(\"y must be a pandas Series\")\n",
    "        if len(X) != len(y):\n",
    "            raise ValueError(\"X and y must have the same number of samples\")\n",
    "        self.root = self.Tree()\n",
    "        self.__build_tree(X, y, root=self.root)\n",
    "    \n",
    "    def predict(self, X):\n",
    "        y_pred = []\n",
    "        if not isinstance(X, pd.DataFrame):\n",
    "            raise TypeError(\"X must be a pandas DataFrame\")\n",
    "        for _, row in X.iterrows():\n",
    "            node = self.root\n",
    "            while node.left or node.right:\n",
    "                if row.iloc[node.feature_index] <= node.threshold:\n",
    "                    if node.left:\n",
    "                        node = node.left\n",
    "                    else:\n",
    "                        y_pred.append(node.lvalue)\n",
    "                        break\n",
    "                else:\n",
    "                    if node.right:\n",
    "                        node = node.right\n",
    "                    else:\n",
    "                        y_pred.append(node.rvalue)\n",
    "                        break\n",
    "            else:\n",
    "                y_pred.append(node.lvalue if row.iloc[node.feature_index] <= node.threshold else node.rvalue)\n",
    "                \n",
    "        return pd.Series(y_pred, index=X.index)"
   ]
  },
  {
   "cell_type": "code",
   "execution_count": 310,
   "id": "8d3b0819",
   "metadata": {},
   "outputs": [
    {
     "data": {
      "application/vnd.microsoft.datawrangler.viewer.v0+json": {
       "columns": [
        {
         "name": "index",
         "rawType": "int64",
         "type": "integer"
        },
        {
         "name": "Loves Popcorn",
         "rawType": "int64",
         "type": "integer"
        },
        {
         "name": "Loves Soda",
         "rawType": "int64",
         "type": "integer"
        },
        {
         "name": "Age",
         "rawType": "int64",
         "type": "integer"
        },
        {
         "name": "Loves Cool As Ice",
         "rawType": "int64",
         "type": "integer"
        }
       ],
       "ref": "ff360e47-2c58-40db-9460-76aa2082c213",
       "rows": [
        [
         "0",
         "0",
         "1",
         "35",
         "1"
        ],
        [
         "1",
         "1",
         "1",
         "7",
         "0"
        ],
        [
         "2",
         "1",
         "1",
         "38",
         "1"
        ],
        [
         "3",
         "1",
         "0",
         "12",
         "0"
        ],
        [
         "4",
         "1",
         "0",
         "50",
         "0"
        ],
        [
         "5",
         "0",
         "1",
         "18",
         "1"
        ],
        [
         "6",
         "0",
         "0",
         "83",
         "0"
        ]
       ],
       "shape": {
        "columns": 4,
        "rows": 7
       }
      },
      "text/html": [
       "<div>\n",
       "<style scoped>\n",
       "    .dataframe tbody tr th:only-of-type {\n",
       "        vertical-align: middle;\n",
       "    }\n",
       "\n",
       "    .dataframe tbody tr th {\n",
       "        vertical-align: top;\n",
       "    }\n",
       "\n",
       "    .dataframe thead th {\n",
       "        text-align: right;\n",
       "    }\n",
       "</style>\n",
       "<table border=\"1\" class=\"dataframe\">\n",
       "  <thead>\n",
       "    <tr style=\"text-align: right;\">\n",
       "      <th></th>\n",
       "      <th>Loves Popcorn</th>\n",
       "      <th>Loves Soda</th>\n",
       "      <th>Age</th>\n",
       "      <th>Loves Cool As Ice</th>\n",
       "    </tr>\n",
       "  </thead>\n",
       "  <tbody>\n",
       "    <tr>\n",
       "      <th>0</th>\n",
       "      <td>0</td>\n",
       "      <td>1</td>\n",
       "      <td>35</td>\n",
       "      <td>1</td>\n",
       "    </tr>\n",
       "    <tr>\n",
       "      <th>1</th>\n",
       "      <td>1</td>\n",
       "      <td>1</td>\n",
       "      <td>7</td>\n",
       "      <td>0</td>\n",
       "    </tr>\n",
       "    <tr>\n",
       "      <th>2</th>\n",
       "      <td>1</td>\n",
       "      <td>1</td>\n",
       "      <td>38</td>\n",
       "      <td>1</td>\n",
       "    </tr>\n",
       "    <tr>\n",
       "      <th>3</th>\n",
       "      <td>1</td>\n",
       "      <td>0</td>\n",
       "      <td>12</td>\n",
       "      <td>0</td>\n",
       "    </tr>\n",
       "    <tr>\n",
       "      <th>4</th>\n",
       "      <td>1</td>\n",
       "      <td>0</td>\n",
       "      <td>50</td>\n",
       "      <td>0</td>\n",
       "    </tr>\n",
       "    <tr>\n",
       "      <th>5</th>\n",
       "      <td>0</td>\n",
       "      <td>1</td>\n",
       "      <td>18</td>\n",
       "      <td>1</td>\n",
       "    </tr>\n",
       "    <tr>\n",
       "      <th>6</th>\n",
       "      <td>0</td>\n",
       "      <td>0</td>\n",
       "      <td>83</td>\n",
       "      <td>0</td>\n",
       "    </tr>\n",
       "  </tbody>\n",
       "</table>\n",
       "</div>"
      ],
      "text/plain": [
       "   Loves Popcorn  Loves Soda  Age  Loves Cool As Ice\n",
       "0              0           1   35                  1\n",
       "1              1           1    7                  0\n",
       "2              1           1   38                  1\n",
       "3              1           0   12                  0\n",
       "4              1           0   50                  0\n",
       "5              0           1   18                  1\n",
       "6              0           0   83                  0"
      ]
     },
     "execution_count": 310,
     "metadata": {},
     "output_type": "execute_result"
    }
   ],
   "source": [
    "df = pd.read_csv(\"data/sample1.csv\")\n",
    "for col in df.columns:\n",
    "    if df[col].dtype == \"object\":\n",
    "        df[col] = df[col].map(lambda x: 1 if x == \"Yes\" else 0)\n",
    "train_X = df[[\"Loves Popcorn\", \"Loves Soda\", \"Age\"]]\n",
    "train_Y = df[\"Loves Cool As Ice\"]\n",
    "df"
   ]
  },
  {
   "cell_type": "code",
   "execution_count": 311,
   "id": "6f6e27f5",
   "metadata": {},
   "outputs": [
    {
     "data": {
      "application/vnd.microsoft.datawrangler.viewer.v0+json": {
       "columns": [
        {
         "name": "index",
         "rawType": "int64",
         "type": "integer"
        },
        {
         "name": "Loves Popcorn",
         "rawType": "int64",
         "type": "integer"
        },
        {
         "name": "Loves Soda",
         "rawType": "int64",
         "type": "integer"
        },
        {
         "name": "Age",
         "rawType": "int64",
         "type": "integer"
        },
        {
         "name": "Loves Cool As Ice",
         "rawType": "int64",
         "type": "integer"
        }
       ],
       "ref": "ff3ef6a6-72da-4c88-9d55-8cc4c73da996",
       "rows": [
        [
         "1",
         "1",
         "1",
         "7",
         "0"
        ],
        [
         "3",
         "1",
         "0",
         "12",
         "0"
        ],
        [
         "5",
         "0",
         "1",
         "18",
         "1"
        ],
        [
         "0",
         "0",
         "1",
         "35",
         "1"
        ],
        [
         "2",
         "1",
         "1",
         "38",
         "1"
        ],
        [
         "4",
         "1",
         "0",
         "50",
         "0"
        ],
        [
         "6",
         "0",
         "0",
         "83",
         "0"
        ]
       ],
       "shape": {
        "columns": 4,
        "rows": 7
       }
      },
      "text/html": [
       "<div>\n",
       "<style scoped>\n",
       "    .dataframe tbody tr th:only-of-type {\n",
       "        vertical-align: middle;\n",
       "    }\n",
       "\n",
       "    .dataframe tbody tr th {\n",
       "        vertical-align: top;\n",
       "    }\n",
       "\n",
       "    .dataframe thead th {\n",
       "        text-align: right;\n",
       "    }\n",
       "</style>\n",
       "<table border=\"1\" class=\"dataframe\">\n",
       "  <thead>\n",
       "    <tr style=\"text-align: right;\">\n",
       "      <th></th>\n",
       "      <th>Loves Popcorn</th>\n",
       "      <th>Loves Soda</th>\n",
       "      <th>Age</th>\n",
       "      <th>Loves Cool As Ice</th>\n",
       "    </tr>\n",
       "  </thead>\n",
       "  <tbody>\n",
       "    <tr>\n",
       "      <th>1</th>\n",
       "      <td>1</td>\n",
       "      <td>1</td>\n",
       "      <td>7</td>\n",
       "      <td>0</td>\n",
       "    </tr>\n",
       "    <tr>\n",
       "      <th>3</th>\n",
       "      <td>1</td>\n",
       "      <td>0</td>\n",
       "      <td>12</td>\n",
       "      <td>0</td>\n",
       "    </tr>\n",
       "    <tr>\n",
       "      <th>5</th>\n",
       "      <td>0</td>\n",
       "      <td>1</td>\n",
       "      <td>18</td>\n",
       "      <td>1</td>\n",
       "    </tr>\n",
       "    <tr>\n",
       "      <th>0</th>\n",
       "      <td>0</td>\n",
       "      <td>1</td>\n",
       "      <td>35</td>\n",
       "      <td>1</td>\n",
       "    </tr>\n",
       "    <tr>\n",
       "      <th>2</th>\n",
       "      <td>1</td>\n",
       "      <td>1</td>\n",
       "      <td>38</td>\n",
       "      <td>1</td>\n",
       "    </tr>\n",
       "    <tr>\n",
       "      <th>4</th>\n",
       "      <td>1</td>\n",
       "      <td>0</td>\n",
       "      <td>50</td>\n",
       "      <td>0</td>\n",
       "    </tr>\n",
       "    <tr>\n",
       "      <th>6</th>\n",
       "      <td>0</td>\n",
       "      <td>0</td>\n",
       "      <td>83</td>\n",
       "      <td>0</td>\n",
       "    </tr>\n",
       "  </tbody>\n",
       "</table>\n",
       "</div>"
      ],
      "text/plain": [
       "   Loves Popcorn  Loves Soda  Age  Loves Cool As Ice\n",
       "1              1           1    7                  0\n",
       "3              1           0   12                  0\n",
       "5              0           1   18                  1\n",
       "0              0           1   35                  1\n",
       "2              1           1   38                  1\n",
       "4              1           0   50                  0\n",
       "6              0           0   83                  0"
      ]
     },
     "execution_count": 311,
     "metadata": {},
     "output_type": "execute_result"
    }
   ],
   "source": [
    "df.sort_values(by=\"Age\")"
   ]
  },
  {
   "cell_type": "code",
   "execution_count": 312,
   "id": "fe8008bd",
   "metadata": {},
   "outputs": [
    {
     "data": {
      "application/vnd.microsoft.datawrangler.viewer.v0+json": {
       "columns": [
        {
         "name": "index",
         "rawType": "int64",
         "type": "integer"
        },
        {
         "name": "0",
         "rawType": "int64",
         "type": "integer"
        }
       ],
       "ref": "5fe44a01-8a0e-4d5b-9808-e2561d6b33bf",
       "rows": [
        [
         "0",
         "1"
        ],
        [
         "1",
         "0"
        ],
        [
         "2",
         "1"
        ],
        [
         "3",
         "0"
        ],
        [
         "4",
         "0"
        ],
        [
         "5",
         "1"
        ],
        [
         "6",
         "0"
        ]
       ],
       "shape": {
        "columns": 1,
        "rows": 7
       }
      },
      "text/plain": [
       "0    1\n",
       "1    0\n",
       "2    1\n",
       "3    0\n",
       "4    0\n",
       "5    1\n",
       "6    0\n",
       "dtype: int64"
      ]
     },
     "execution_count": 312,
     "metadata": {},
     "output_type": "execute_result"
    }
   ],
   "source": [
    "model = DecisionTreeClassifier(max_depth=3)\n",
    "model.fit(train_X, train_Y)\n",
    "model.predict(train_X)"
   ]
  }
 ],
 "metadata": {
  "kernelspec": {
   "display_name": "dsmlai",
   "language": "python",
   "name": "python3"
  },
  "language_info": {
   "codemirror_mode": {
    "name": "ipython",
    "version": 3
   },
   "file_extension": ".py",
   "mimetype": "text/x-python",
   "name": "python",
   "nbconvert_exporter": "python",
   "pygments_lexer": "ipython3",
   "version": "3.13.3"
  }
 },
 "nbformat": 4,
 "nbformat_minor": 5
}
